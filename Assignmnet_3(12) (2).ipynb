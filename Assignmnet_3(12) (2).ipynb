{
  "cells": [
    {
      "cell_type": "markdown",
      "metadata": {
        "id": "r_codXTgCGLZ"
      },
      "source": [
        "# Lab 3: Constituency parsing with CKY\n",
        "\n",
        "The grammatical structure of a sentence can be represented with a Context Free Grammar (CFG). When we additionally assign probabilities to the rules of the CFG we get a PCFG: a _Probabilistic_ CFG. \n",
        "\n",
        "Given a sufficiently expressive PCFG (one that holds enough rules) we can parse new sentences using the Cocke–Kasami–Younger (CKY) algorithm. You can use this algorithm in three ways: to find the set of all the possible parses $p$ of a sentence $s$ under a PCFG $G$; to find the probability of the sentence by summing up the probabilities of these parses; or to find the parse $p^{*}$ of the highest probability.\n",
        "\n",
        "\n",
        "### Tasks\n",
        "1. In this notebook you will learn how to represent a PCFG in an object-oriented manner as a collection of python classes. These classes are already defined for you. Read them through thoroughly and make sure that you understand them well. You have to use them in task 2.\n",
        "\n",
        "2. Implement the CKY algorithm to find the most probable parse $p^{*}$ for a sentence. Your implementation will follow the psuedo-code that is given in both the lecture slides, and Jurafsky and Martin."
      ]
    },
    {
      "cell_type": "markdown",
      "metadata": {
        "id": "a5knre1Y5IFB"
      },
      "source": [
        "# Rules\n",
        "* The assignment should be submitted to **Blackboard** as `.ipynb` (without data files or zipping). Only **one submission per group**.\n",
        "\n",
        "* The **filename** should be the group number, e.g., `01.ipynb` or `31.ipynb`.\n",
        " \n",
        "* The questions marked **Extra** or **Optional** are an additional challenge for those interested in going the extra mile. There are no points for them.\n",
        "\n",
        "**Rules for implementation**\n",
        "\n",
        "* You should **write your code and answers in this iPython Notebook**. (See http://ipython.org/notebook.html for reference material.) If you have problems, please contact your teaching assistant.\n",
        "\n",
        "* Use only **one cell for code** and **one cell for markdown** answers!    \n",
        "\n",
        "    * Put all code in the cell with the `## YOUR CODE HERE ##` comment.\n",
        "    * Provide brief comments on what the code does at crucial points.\n",
        "    * For theoretical questions, put your solution in the `█████ YOUR ANSWER HERE █████` cell and keep the header(!).\n",
        "\n",
        "* Don't change or delete any initially provided cells, either text or code, unless explicitly instructed to do so.\n",
        "* Don't delete the comment lines `#TEST...` or edit their code cells. \n",
        "* Don't change the names of provided functions and variables or arguments of the functions. \n",
        "* Leave the output of your code in the output cells.\n",
        "* Don't output unnecessary info (e.g., printing variables for debugging purposes). This clutters the notebook and slows down the grading.\n",
        "* Test your code and **make sure we can run your notebook** in the colab environment.\n",
        "\n",
        "<font color=\"red\">You following these rules helps us to grade the submissions relatively efficiently. If these rules are violated, a submission will be subject to penalty points.</font>  "
      ]
    },
    {
      "cell_type": "markdown",
      "metadata": {
        "id": "nNT1WNEnlkBC"
      },
      "source": [
        "# <font color=\"red\">Contributions</font>\n",
        "\n",
        "~~Delete this text and write instead of it your:~~\n",
        "* ~~a list of group members names (NOT student IDs)~~\n",
        "* ~~who contributed to which exercises (you don't need to be very detailed)~~ "
      ]
    },
    {
      "cell_type": "markdown",
      "metadata": {
        "id": "n2bCocjNWhJe"
      },
      "source": [
        "# Set up"
      ]
    },
    {
      "cell_type": "code",
      "execution_count": 2,
      "metadata": {
        "id": "Q2rFTz2rCGLd"
      },
      "outputs": [],
      "source": [
        "import numpy as np\n",
        "from collections import Counter, defaultdict\n",
        "import math\n",
        "# nltk will be used to draw constituency parses\n",
        "import nltk \n",
        "from nltk.tree import Tree"
      ]
    },
    {
      "cell_type": "code",
      "execution_count": 3,
      "metadata": {
        "colab": {
          "base_uri": "https://localhost:8080/"
        },
        "id": "a5N77nlCWcvs",
        "outputId": "57f4d3a0-58f6-4246-acec-b25df43109c4"
      },
      "outputs": [
        {
          "name": "stdout",
          "output_type": "stream",
          "text": [
            "2023-06-12 16:22:14 URL:https://naturallogic.pro/_files_/download/mNLP/groucho-grammar-1.txt [337/337] -> \"groucho-grammar-1.txt\" [1]\n",
            "2023-06-12 16:22:14 URL:https://naturallogic.pro/_files_/download/mNLP/groucho-grammar-2.txt [337/337] -> \"groucho-grammar-2.txt\" [1]\n",
            "2023-06-12 16:22:15 URL:https://naturallogic.pro/_files_/download/mNLP/telescope-grammar.txt [381/381] -> \"telescope-grammar.txt\" [1]\n"
          ]
        }
      ],
      "source": [
        "# downloading grammar files\n",
        "! wget -nv https://naturallogic.pro/_files_/download/mNLP/groucho-grammar-1.txt\n",
        "! wget -nv https://naturallogic.pro/_files_/download/mNLP/groucho-grammar-2.txt\n",
        "! wget -nv https://naturallogic.pro/_files_/download/mNLP/telescope-grammar.txt"
      ]
    },
    {
      "cell_type": "markdown",
      "metadata": {
        "id": "xA7SNulWbMf5"
      },
      "source": [
        "# PCFG\n",
        "\n",
        "In this lab we will show you a way to represent a **PCFG** using python objects. We will introduce the following classes:\n",
        "\n",
        "* Symbol\n",
        "    * Terminal\n",
        "    * Nonterminal\n",
        "* Rule\n",
        "\n",
        "At first glance, this might seem like a lot of work. But, hopefully, by the time you get to implementing CKY you will be convinced in the benefits of these constructions."
      ]
    },
    {
      "cell_type": "markdown",
      "metadata": {
        "id": "0X2Nk5i3CGLg"
      },
      "source": [
        "## Symbol\n",
        "\n",
        "Recall that:\n",
        "* **Terminal** symbols are the words of the sentence: _I, ate, salad, the_ etc.\n",
        "* **Nonterminal** symbols are the syntactic categories of the various constituents: _S, NP, VP, Det_ etc.\n",
        "\n",
        "In our representation, `Symbol` is going to be a container class. The classes `Terminal` and `Nonterminal` will *inherit* from the `Symbol` class and will hence both become a type of symbol. The classes themselves are effectively a container for the underlying python strings. "
      ]
    },
    {
      "cell_type": "code",
      "execution_count": 4,
      "metadata": {
        "id": "VlsXWvTjCGLh"
      },
      "outputs": [],
      "source": [
        "class Symbol:\n",
        "    \"\"\"\n",
        "    A symbol in a grammar.\n",
        "    This class will be used as parent class for Terminal, Nonterminal.\n",
        "    This way both will be a type of Symbol.\n",
        "    \"\"\"\n",
        "    def __init__(self):\n",
        "        pass\n",
        "\n",
        "\n",
        "class Terminal(Symbol):\n",
        "    \"\"\"\n",
        "    Terminal symbols are words in a vocabulary\n",
        "    \n",
        "    E.g. 'I', 'ate', 'salad', 'the'\n",
        "    \"\"\"\n",
        "\n",
        "    def __init__(self, symbol: str):\n",
        "        assert type(symbol) is str, f\"A Terminal takes a python string, got {type(symbol)}\" \n",
        "        self._symbol = symbol\n",
        "\n",
        "    def is_terminal(self):\n",
        "        return True\n",
        "\n",
        "    def is_nonterminal(self):\n",
        "        return False\n",
        "\n",
        "    def __str__(self):\n",
        "        return f\"'{self._symbol}'\" \n",
        "\n",
        "    def __repr__(self):\n",
        "        return f\"Terminal({repr(self._symbol)})\" \n",
        "\n",
        "    def __hash__(self):\n",
        "        return hash(self._symbol)\n",
        "\n",
        "    def __len__(self):\n",
        "        \"\"\"The length of the underlying python string\"\"\"\n",
        "        return len(self._symbol)\n",
        "\n",
        "    def __eq__(self, other):\n",
        "        return type(self) == type(other) and self._symbol == other._symbol\n",
        "\n",
        "    def __ne__(self, other):\n",
        "        return not (self == other)\n",
        "\n",
        "    def __lt__(self, other):\n",
        "        return self._symbol < other._symbol\n",
        "    \n",
        "    @property\n",
        "    def obj(self):\n",
        "        \"\"\"Returns the underlying python string\"\"\"\n",
        "        return self._symbol\n",
        "\n",
        "\n",
        "class Nonterminal(Symbol):\n",
        "    \"\"\"\n",
        "    Nonterminal symbols are the grammatical classes in a grammar.\n",
        "    \n",
        "    E.g. S, NP, VP, N, Det, etc.\n",
        "    \"\"\"\n",
        "\n",
        "    def __init__(self, symbol: str):\n",
        "        assert type(symbol) is str, f\"A Nonterminal takes a python string, got {type(symbol)}\" \n",
        "        self._symbol = symbol\n",
        "\n",
        "    def is_terminal(self):\n",
        "        return False\n",
        "    \n",
        "    def is_nonterminal(self):\n",
        "        return True\n",
        "\n",
        "    def __str__(self):\n",
        "        return f\"[{self._symbol}]\" \n",
        "\n",
        "    def __repr__(self):\n",
        "        return f\"Nonterminal({repr(self._symbol)})\" \n",
        "\n",
        "    def __hash__(self):\n",
        "        return hash(self._symbol)\n",
        "    \n",
        "    def __len__(self):\n",
        "        \"\"\"The length of the underlying python string\"\"\"\n",
        "        return len(self._symbol)\n",
        "    \n",
        "    def __eq__(self, other):\n",
        "        return type(self) == type(other) and self._symbol == other._symbol\n",
        "\n",
        "    def __ne__(self, other):\n",
        "        return not (self == other)\n",
        "\n",
        "    def __lt__(self, other):\n",
        "        return self._symbol < other._symbol\n",
        "    \n",
        "    @property\n",
        "    def obj(self):\n",
        "        \"\"\"Returns the underlying python string\"\"\"\n",
        "        return self._symbol"
      ]
    },
    {
      "cell_type": "markdown",
      "metadata": {
        "id": "iJ0WmVOZCGLj"
      },
      "source": [
        "Let's try out the classes by initializing some terminal and nonterminal symbols:"
      ]
    },
    {
      "cell_type": "code",
      "execution_count": 5,
      "metadata": {
        "id": "vv2qVwloCGLk"
      },
      "outputs": [],
      "source": [
        "dog = Terminal('dog')\n",
        "the = Terminal('the')\n",
        "walks = Terminal('walks')\n",
        "\n",
        "S = Nonterminal('S')\n",
        "NP = Nonterminal('NP')\n",
        "NP_prime = Nonterminal('NP')\n",
        "VP = Nonterminal('VP')\n",
        "V = Nonterminal('V')\n",
        "N = Nonterminal('N')\n",
        "Det = Nonterminal('Det')"
      ]
    },
    {
      "cell_type": "markdown",
      "metadata": {
        "id": "NGZHKNAUCGLl"
      },
      "source": [
        "The methods `__eq__` and `__ne__` make it possible to compare our objects using standard Python syntax. But more importantly: compare in the way that we are interested in, namely whether the underlying representation is the same.\n",
        "\n",
        "To see the difference, try commenting out the method `__eq__` in the class above, and notice the different result of the equality test `NP==NP_prime`."
      ]
    },
    {
      "cell_type": "code",
      "execution_count": 6,
      "metadata": {
        "colab": {
          "base_uri": "https://localhost:8080/"
        },
        "id": "AKWBrXghCGLl",
        "outputId": "60dd9748-fe1b-4f00-f558-e062f983e94b"
      },
      "outputs": [
        {
          "name": "stdout",
          "output_type": "stream",
          "text": [
            "'dog'\n",
            "[NP]\n",
            "\n",
            "False\n",
            "True\n",
            "True\n",
            "True\n"
          ]
        }
      ],
      "source": [
        "print(dog)\n",
        "print(NP)\n",
        "print()\n",
        "print(NP==Det)\n",
        "print(NP!=Det)\n",
        "print(NP==NP)\n",
        "print(NP==NP_prime)"
      ]
    },
    {
      "cell_type": "markdown",
      "metadata": {
        "id": "qScfOAVvCGLm"
      },
      "source": [
        "dNote the difference between calling `print(NP)` and simply calling `NP`. The first is taken care of by the method `__str__` and the second by the method `__repr__`."
      ]
    },
    {
      "cell_type": "code",
      "execution_count": 7,
      "metadata": {
        "colab": {
          "base_uri": "https://localhost:8080/"
        },
        "id": "wTS_97wYCGLo",
        "outputId": "d49eb74d-81bd-48c4-df33-e48b98b961ce"
      },
      "outputs": [
        {
          "data": {
            "text/plain": [
              "Terminal('dog')"
            ]
          },
          "execution_count": 7,
          "metadata": {},
          "output_type": "execute_result"
        }
      ],
      "source": [
        "dog"
      ]
    },
    {
      "cell_type": "markdown",
      "metadata": {
        "id": "lXMlXaFkCGLo"
      },
      "source": [
        "We can also easily check if our symbol is a terminal or not:"
      ]
    },
    {
      "cell_type": "code",
      "execution_count": 8,
      "metadata": {
        "colab": {
          "base_uri": "https://localhost:8080/"
        },
        "id": "uMuoMVHQCGLp",
        "outputId": "0dcc8a88-3750-4e69-f619-751b10d9d834"
      },
      "outputs": [
        {
          "data": {
            "text/plain": [
              "True"
            ]
          },
          "execution_count": 8,
          "metadata": {},
          "output_type": "execute_result"
        }
      ],
      "source": [
        "dog.is_terminal()"
      ]
    },
    {
      "cell_type": "code",
      "execution_count": 9,
      "metadata": {
        "colab": {
          "base_uri": "https://localhost:8080/"
        },
        "id": "GtnXm0IUCGLq",
        "outputId": "c5dc919a-c4af-4d67-a133-6237a7d5372b"
      },
      "outputs": [
        {
          "data": {
            "text/plain": [
              "False"
            ]
          },
          "execution_count": 9,
          "metadata": {},
          "output_type": "execute_result"
        }
      ],
      "source": [
        "NP.is_terminal()"
      ]
    },
    {
      "cell_type": "markdown",
      "metadata": {
        "id": "EvtkwhBhCGLq"
      },
      "source": [
        "Finally the method `__hash__` makes our object *hashable*, and hence usable in a datastructure like a dictionary. \n",
        "\n",
        "Try commenting out this method above in the class and then retry constructing the dictionary: notice the error."
      ]
    },
    {
      "cell_type": "code",
      "execution_count": 10,
      "metadata": {
        "colab": {
          "base_uri": "https://localhost:8080/"
        },
        "id": "nniQ14QyCGLr",
        "outputId": "c03fe842-70c7-45b4-ee7c-d1685b90b648"
      },
      "outputs": [
        {
          "data": {
            "text/plain": [
              "{Nonterminal('NP'): 1, Nonterminal('S'): 2}"
            ]
          },
          "execution_count": 10,
          "metadata": {},
          "output_type": "execute_result"
        }
      ],
      "source": [
        "d = {NP: 1, S: 2}\n",
        "d"
      ]
    },
    {
      "cell_type": "markdown",
      "metadata": {
        "id": "vpC5JyBcCGLs"
      },
      "source": [
        "## Rules\n",
        "\n",
        "In a PCFG a **rule** looks something like this \n",
        "\n",
        "$$NP \\to Det\\;N$$\n",
        "\n",
        "with a corresponding probability, for example $1.0$ if we lived in a world where all noun phrases had this grammatical structure.\n",
        "\n",
        "In our representation, `Rule` will be an object made of a left-hand side (`lhs`) symbol, a sequence of right-hand side symbols (`rhs`) and a probability `prob`. \n",
        "\n",
        "If we use the above defined symbols, we can call\n",
        "\n",
        "    rule = Rule(NP, [Det, N], 1.0)\n",
        "   \n",
        "This will construct an instance called `rule` which represent the rule above\n",
        "\n",
        "    [NP] -> [Det] [N] (1.0)\n",
        "    "
      ]
    },
    {
      "cell_type": "code",
      "execution_count": 11,
      "metadata": {
        "id": "vXN4G4t-CGLs"
      },
      "outputs": [],
      "source": [
        "class Rule:\n",
        "\n",
        "    def __init__(self, lhs, rhs, prob):\n",
        "        \"\"\"\n",
        "        Constructs a Rule.\n",
        "        A Rule takes a LHS symbol and a list/tuple of RHS symbols.\n",
        "\n",
        "        :param lhs: the LHS nonterminal\n",
        "        :param rhs: a sequence of RHS symbols (terminal or nonterminal)\n",
        "        :param prob: probability of the rule\n",
        "        \"\"\"\n",
        "\n",
        "        assert isinstance(lhs, Symbol), 'LHS must be an instance of Symbol (actually even a non-terminal but later we will expan LHS)'\n",
        "        assert len(rhs) > 0, 'If you want an empty RHS, use an epsilon Terminal EPS'\n",
        "        assert all(isinstance(s, Symbol) for s in rhs), 'RHS must be a sequence of Symbol objects'\n",
        "        if prob is not None:\n",
        "            assert 0 <= prob <= 1, 'The probability must be between 0 and 1'\n",
        "        self._lhs = lhs\n",
        "        self._rhs = tuple(rhs)\n",
        "        self._prob = prob\n",
        "\n",
        "\n",
        "    def __eq__(self, other):\n",
        "        return self._lhs == other._lhs and self._rhs == other._rhs and self._prob == other._prob\n",
        "\n",
        "    def __ne__(self, other):\n",
        "        return not (self == other)\n",
        "\n",
        "    def __hash__(self):\n",
        "        return hash((self._lhs, self._rhs, self._prob))\n",
        "\n",
        "    def __repr__(self):\n",
        "        rhs = ' '.join(str(sym) for sym in self._rhs)\n",
        "        return f\"{self._lhs} -> {rhs} ({self.prob})\"\n",
        "\n",
        "    def is_binary(self):\n",
        "        \"\"\"True if Rule is binary: A -> B C\"\"\"\n",
        "        return len(self._rhs) == 2\n",
        "    \n",
        "    def is_unary(self):\n",
        "        \"\"\"True if Rule is unary: A -> w\"\"\"\n",
        "        return len(self._rhs) == 1\n",
        "    \n",
        "    @property\n",
        "    def lhs(self):\n",
        "        \"\"\"Returns the lhs of the rule\"\"\"\n",
        "        return self._lhs\n",
        "\n",
        "    @property\n",
        "    def rhs(self):\n",
        "        \"\"\"Returns the rhs of the rule\"\"\"\n",
        "        return self._rhs\n",
        "\n",
        "    @property\n",
        "    def prob(self):\n",
        "        \"\"\"Returns the probability of the rule\"\"\"\n",
        "        return self._prob\n"
      ]
    },
    {
      "cell_type": "markdown",
      "metadata": {
        "id": "r4U1gI2rCGLt"
      },
      "source": [
        "Just as with `Terminal` and `Nonterminal` you can print an instance of `Rule`, you can access its attributes, and you can hash rules with containers such as dict and set."
      ]
    },
    {
      "cell_type": "code",
      "execution_count": 12,
      "metadata": {
        "colab": {
          "base_uri": "https://localhost:8080/"
        },
        "id": "Ld0VMQWWCGLu",
        "outputId": "2049e79b-fe29-4343-d36f-7f5371d8d453"
      },
      "outputs": [
        {
          "name": "stdout",
          "output_type": "stream",
          "text": [
            "[S] -> [NP] [VP] (1.0)\n",
            "[NP] -> [Det] [N] (1.0)\n",
            "[N] -> 'dog' (1.0)\n",
            "[Det] -> 'the' (1.0)\n"
          ]
        }
      ],
      "source": [
        "r1 = Rule(S, [NP, VP], 1.0)\n",
        "r2 = Rule(NP, [Det, N], 1.0)\n",
        "r3 = Rule(N, [dog], 1.0)\n",
        "r4 = Rule(Det, [the], 1.0)\n",
        "r5 = Rule(VP, [walks], 1.0)\n",
        "\n",
        "print(r1)\n",
        "print(r2)\n",
        "print(r3)\n",
        "print(r4)"
      ]
    },
    {
      "cell_type": "code",
      "execution_count": 13,
      "metadata": {
        "colab": {
          "base_uri": "https://localhost:8080/"
        },
        "id": "Y62yZ8I8CGLv",
        "outputId": "0a3ed7ed-90a9-4bee-b85d-f20539466ab4"
      },
      "outputs": [
        {
          "name": "stdout",
          "output_type": "stream",
          "text": [
            "1.0\n"
          ]
        }
      ],
      "source": [
        "print(r1.prob)"
      ]
    },
    {
      "cell_type": "code",
      "execution_count": 14,
      "metadata": {
        "colab": {
          "base_uri": "https://localhost:8080/"
        },
        "id": "YhEJETHgCGLv",
        "outputId": "c83ee11e-43d1-4747-9b41-815c65dc7c84"
      },
      "outputs": [
        {
          "data": {
            "text/plain": [
              "True"
            ]
          },
          "execution_count": 14,
          "metadata": {},
          "output_type": "execute_result"
        }
      ],
      "source": [
        "r1 in set([r1])"
      ]
    },
    {
      "cell_type": "code",
      "execution_count": 15,
      "metadata": {
        "colab": {
          "base_uri": "https://localhost:8080/"
        },
        "id": "WTAJ2CmBCGLw",
        "outputId": "eec6baaf-faaf-4075-a51f-424cf99b5a37"
      },
      "outputs": [
        {
          "data": {
            "text/plain": [
              "{[S] -> [NP] [VP] (1.0): 1, [NP] -> [Det] [N] (1.0): 2}"
            ]
          },
          "execution_count": 15,
          "metadata": {},
          "output_type": "execute_result"
        }
      ],
      "source": [
        "d = {r1: 1, r2: 2}\n",
        "d"
      ]
    },
    {
      "cell_type": "markdown",
      "metadata": {
        "id": "OrHaNQzKCGLw"
      },
      "source": [
        "## Grammar\n",
        "\n",
        "A `PCFG` class is a container for `Rules`. The `Rules` are stored in the `PCFG` in such a way that they can be accesed easily in different ways."
      ]
    },
    {
      "cell_type": "code",
      "execution_count": 16,
      "metadata": {
        "id": "sm6tzk7TCGLw"
      },
      "outputs": [],
      "source": [
        "class PCFG(object):\n",
        "    \"\"\"\n",
        "    Constructs a PCFG.\n",
        "    A PCFG stores a list of rules that can be accessed in various ways.\n",
        "    \n",
        "    :param rules: an optional list of rules to initialize the grammar with\n",
        "    \"\"\"\n",
        "    def __init__(self, rules=[]):\n",
        "        self._rules = []\n",
        "        self._rules_by_lhs = defaultdict(list)\n",
        "        self._terminals = set()\n",
        "        self._nonterminals = set()\n",
        "        for rule in rules:\n",
        "            self.add(rule)\n",
        "\n",
        "    def add(self, rule):\n",
        "        \"\"\"Adds a rule to the grammar\"\"\"\n",
        "        if not rule in self._rules:\n",
        "            self._rules.append(rule)\n",
        "            self._rules_by_lhs[rule.lhs].append(rule)\n",
        "            self._nonterminals.add(rule.lhs)\n",
        "            for s in rule.rhs:\n",
        "                if s.is_terminal():\n",
        "                    self._terminals.add(s)\n",
        "                else:\n",
        "                    self._nonterminals.add(s)\n",
        "\n",
        "    def update(self, rules):\n",
        "        \"\"\"Add a list of rules to the grammar\"\"\"\n",
        "        for rule in rules:\n",
        "            self.add(rule)\n",
        "\n",
        "    @property\n",
        "    def nonterminals(self):\n",
        "        \"\"\"The list of nonterminal symbols in the grammar\"\"\"\n",
        "        return self._nonterminals\n",
        "\n",
        "    @property\n",
        "    def terminals(self):\n",
        "        \"\"\"The list of terminal symbols in the grammar\"\"\"\n",
        "        return self._terminals\n",
        "    \n",
        "    @property\n",
        "    def rules(self):\n",
        "        \"\"\"The list of rules in the grammar\"\"\"\n",
        "        return self._rules\n",
        "    \n",
        "    @property\n",
        "    def binary_rules(self):\n",
        "        \"\"\"The list of binary rules in the grammar\"\"\"\n",
        "        return [rule for rule in self._rules if rule.is_binary()]\n",
        "    \n",
        "    @property\n",
        "    def unary_rules(self):\n",
        "        \"\"\"The list of unary rules in the grammar\"\"\"\n",
        "        return [rule for rule in self._rules if rule.is_unary()]\n",
        "\n",
        "    def __len__(self):\n",
        "        return len(self._rules)\n",
        "\n",
        "    def get(self, lhs):\n",
        "        \"\"\"The list of rules whose LHS is the given symbol lhs\"\"\"\n",
        "        return self._rules_by_lhs.get(lhs, [])\n",
        "\n",
        "    def __iter__(self):\n",
        "        \"\"\"Iterator over rules (in arbitrary order)\"\"\"\n",
        "        return iter(self._rules)\n",
        "\n",
        "    def iteritems(self):\n",
        "        \"\"\"Iterator over pairs of the kind (LHS, rules rewriting LHS)\"\"\"\n",
        "        return self._rules_by_lhs.items()\n",
        "\n",
        "    def __str__(self):\n",
        "        \"\"\"Prints the grammar line by line\"\"\"\n",
        "        lines = []\n",
        "        for lhs, rules in self.iteritems():\n",
        "            for rule in rules:\n",
        "                lines.append(str(rule))\n",
        "        return '\\n'.join(lines)"
      ]
    },
    {
      "cell_type": "markdown",
      "metadata": {
        "id": "xcGZAbUSCGLx"
      },
      "source": [
        "Initialize a grammar"
      ]
    },
    {
      "cell_type": "code",
      "execution_count": 17,
      "metadata": {
        "id": "pIVuStsyCGLy"
      },
      "outputs": [],
      "source": [
        "G = PCFG()"
      ]
    },
    {
      "cell_type": "markdown",
      "metadata": {
        "id": "CVkm-al_CGLy"
      },
      "source": [
        "We can add rules individually with `add`, or as a list with `update`:"
      ]
    },
    {
      "cell_type": "code",
      "execution_count": 18,
      "metadata": {
        "id": "j-d55FW6CGLy"
      },
      "outputs": [],
      "source": [
        "G.add(r1)\n",
        "G.update([r2,r3,r4,r5])"
      ]
    },
    {
      "cell_type": "markdown",
      "metadata": {
        "collapsed": true,
        "id": "f-3Mf4JPCGLy"
      },
      "source": [
        "We can print the grammar"
      ]
    },
    {
      "cell_type": "code",
      "execution_count": 19,
      "metadata": {
        "colab": {
          "base_uri": "https://localhost:8080/"
        },
        "id": "xZNR4GxqCGLy",
        "outputId": "4027d28d-cd17-404f-8fce-9dcaaee1024a"
      },
      "outputs": [
        {
          "name": "stdout",
          "output_type": "stream",
          "text": [
            "[S] -> [NP] [VP] (1.0)\n",
            "[NP] -> [Det] [N] (1.0)\n",
            "[N] -> 'dog' (1.0)\n",
            "[Det] -> 'the' (1.0)\n",
            "[VP] -> 'walks' (1.0)\n"
          ]
        }
      ],
      "source": [
        "print(G)"
      ]
    },
    {
      "cell_type": "markdown",
      "metadata": {
        "id": "KpEzw7CSCGLz"
      },
      "source": [
        "We can get the set of rewrite rules for a certain LHS symbol."
      ]
    },
    {
      "cell_type": "code",
      "execution_count": 20,
      "metadata": {
        "colab": {
          "base_uri": "https://localhost:8080/"
        },
        "id": "IvJI3GIPCGLz",
        "outputId": "8b95a68e-4fe3-45f6-8df6-7e26a2f7a0db"
      },
      "outputs": [
        {
          "data": {
            "text/plain": [
              "[[S] -> [NP] [VP] (1.0)]"
            ]
          },
          "execution_count": 20,
          "metadata": {},
          "output_type": "execute_result"
        }
      ],
      "source": [
        "G.get(S)"
      ]
    },
    {
      "cell_type": "code",
      "execution_count": 21,
      "metadata": {
        "colab": {
          "base_uri": "https://localhost:8080/"
        },
        "id": "M3cghJx6CGL0",
        "outputId": "e1b8a4fa-e75e-418a-b73e-4026f12b6ccc"
      },
      "outputs": [
        {
          "data": {
            "text/plain": [
              "[[NP] -> [Det] [N] (1.0)]"
            ]
          },
          "execution_count": 21,
          "metadata": {},
          "output_type": "execute_result"
        }
      ],
      "source": [
        "G.get(NP)"
      ]
    },
    {
      "cell_type": "markdown",
      "metadata": {
        "id": "MNh0XOhuCGL0"
      },
      "source": [
        "We can also iterate through rules in the grammar.\n",
        "\n",
        "Note that the following is basically counting how many rules we have in the grammar."
      ]
    },
    {
      "cell_type": "code",
      "execution_count": 22,
      "metadata": {
        "colab": {
          "base_uri": "https://localhost:8080/"
        },
        "id": "bXVqzI9lCGL1",
        "outputId": "3cdc28d5-f635-46e4-ba5c-403cfac650af"
      },
      "outputs": [
        {
          "data": {
            "text/plain": [
              "5"
            ]
          },
          "execution_count": 22,
          "metadata": {},
          "output_type": "execute_result"
        }
      ],
      "source": [
        "sum(1 for r in G)"
      ]
    },
    {
      "cell_type": "markdown",
      "metadata": {
        "id": "4jjU3krCCGL1"
      },
      "source": [
        "which can also be done in a more efficient way"
      ]
    },
    {
      "cell_type": "code",
      "execution_count": 23,
      "metadata": {
        "colab": {
          "base_uri": "https://localhost:8080/"
        },
        "id": "1Vi814lRCGL2",
        "outputId": "da65810d-3bca-45aa-eae0-ad0319d9e2fd"
      },
      "outputs": [
        {
          "data": {
            "text/plain": [
              "5"
            ]
          },
          "execution_count": 23,
          "metadata": {},
          "output_type": "execute_result"
        }
      ],
      "source": [
        "len(G)"
      ]
    },
    {
      "cell_type": "markdown",
      "metadata": {
        "id": "1l7BmtlyCGL2"
      },
      "source": [
        "We can access the set of terminals and nonterminals of the grammar:"
      ]
    },
    {
      "cell_type": "code",
      "execution_count": 24,
      "metadata": {
        "colab": {
          "base_uri": "https://localhost:8080/"
        },
        "id": "9--IbP75CGL2",
        "outputId": "e55ba714-698f-4743-996e-daf1ded1d3b3"
      },
      "outputs": [
        {
          "name": "stdout",
          "output_type": "stream",
          "text": [
            "{Nonterminal('N'), Nonterminal('VP'), Nonterminal('Det'), Nonterminal('S'), Nonterminal('NP')}\n"
          ]
        }
      ],
      "source": [
        "print(G.nonterminals)"
      ]
    },
    {
      "cell_type": "code",
      "execution_count": 25,
      "metadata": {
        "colab": {
          "base_uri": "https://localhost:8080/"
        },
        "id": "7MvItFKtCGL2",
        "outputId": "8f32b7a5-d2ee-4342-e376-926e9194322d"
      },
      "outputs": [
        {
          "name": "stdout",
          "output_type": "stream",
          "text": [
            "{Terminal('dog'), Terminal('walks'), Terminal('the')}\n"
          ]
        }
      ],
      "source": [
        "print(G.terminals)"
      ]
    },
    {
      "cell_type": "code",
      "execution_count": 26,
      "metadata": {
        "colab": {
          "base_uri": "https://localhost:8080/"
        },
        "id": "Q29uTBaXCGL3",
        "outputId": "61958e2e-70f7-46e0-e9da-18e7d9ed140a"
      },
      "outputs": [
        {
          "data": {
            "text/plain": [
              "True"
            ]
          },
          "execution_count": 26,
          "metadata": {},
          "output_type": "execute_result"
        }
      ],
      "source": [
        "S in G.nonterminals"
      ]
    },
    {
      "cell_type": "code",
      "execution_count": 27,
      "metadata": {
        "colab": {
          "base_uri": "https://localhost:8080/"
        },
        "id": "LsVg9Wf2CGL3",
        "outputId": "bf1b7f66-0800-48ab-f731-9c69997acbb3"
      },
      "outputs": [
        {
          "data": {
            "text/plain": [
              "True"
            ]
          },
          "execution_count": 27,
          "metadata": {},
          "output_type": "execute_result"
        }
      ],
      "source": [
        "dog in G.terminals"
      ]
    },
    {
      "cell_type": "markdown",
      "metadata": {
        "id": "-ojHdLHUCGL4"
      },
      "source": [
        "Finally we can easily access all the binary rules and all the unary rules in the grammar:"
      ]
    },
    {
      "cell_type": "code",
      "execution_count": 28,
      "metadata": {
        "colab": {
          "base_uri": "https://localhost:8080/"
        },
        "id": "Bv6pcFS1CGL4",
        "outputId": "a24e316b-61ac-47a5-85de-4f54f33ab84f"
      },
      "outputs": [
        {
          "data": {
            "text/plain": [
              "[[N] -> 'dog' (1.0), [Det] -> 'the' (1.0), [VP] -> 'walks' (1.0)]"
            ]
          },
          "execution_count": 28,
          "metadata": {},
          "output_type": "execute_result"
        }
      ],
      "source": [
        "G.unary_rules"
      ]
    },
    {
      "cell_type": "code",
      "execution_count": 29,
      "metadata": {
        "colab": {
          "base_uri": "https://localhost:8080/"
        },
        "id": "dYpJIx4mCGL4",
        "outputId": "4146d954-f849-47d4-c103-a99cf09a690e"
      },
      "outputs": [
        {
          "data": {
            "text/plain": [
              "[[S] -> [NP] [VP] (1.0), [NP] -> [Det] [N] (1.0)]"
            ]
          },
          "execution_count": 29,
          "metadata": {},
          "output_type": "execute_result"
        }
      ],
      "source": [
        "G.binary_rules"
      ]
    },
    {
      "cell_type": "code",
      "execution_count": 30,
      "metadata": {
        "id": "PLVozKk2O_sX"
      },
      "outputs": [],
      "source": [
        "def get_nonterminals_for_word(grammar, word):\n",
        "    nonterminals = {}\n",
        "    \n",
        "    for rule in grammar.rules:\n",
        "\n",
        "        if str(rule.rhs[0]) == str(Terminal(word)):\n",
        "            nonterminal = rule.lhs \n",
        "            nonterminals[nonterminal] = True\n",
        "\n",
        "    return nonterminals"
      ]
    },
    {
      "cell_type": "code",
      "execution_count": 31,
      "metadata": {
        "colab": {
          "base_uri": "https://localhost:8080/"
        },
        "id": "nAbYgYSmPQKC",
        "outputId": "5802a2fe-34c0-4feb-90f6-2764ce3937fa"
      },
      "outputs": [
        {
          "data": {
            "text/plain": [
              "{Nonterminal('Det'): True}"
            ]
          },
          "execution_count": 31,
          "metadata": {},
          "output_type": "execute_result"
        }
      ],
      "source": [
        "get_nonterminals_for_word(G, 'the')"
      ]
    },
    {
      "cell_type": "markdown",
      "metadata": {
        "id": "7ZdbicfrCGL5"
      },
      "source": [
        "# Visualizing a tree\n",
        "\n",
        "For the sake of legacy let's reiterate an age-old NLP schtick, the well-known example of structural ambiguity from the Groucho Marx movie, [Animal Crackers](https://youtu.be/FZUfhfHbjE4?t=1m33s) (1930):\n",
        "\n",
        "> One morning I shot an elephant in my pajamas. How he got into my pajamas, I don't know.\n",
        "\n",
        "Let's take a closer look at the ambiguity in the phrase: _I shot an elephant in my pajamas_. The ambiguity is caused by the fact that the sentence has two competing parses represented in:\n",
        "\n",
        "    (S (NP I) (VP (VP (V shot) (NP (Det an) (N elephant))) (PP (P in) (NP (Det my) (N pajamas)))))\n",
        "\n",
        "and\n",
        "\n",
        "    (S (NP I) (VP (V shot) (NP (Det an) (NP (N elephant) (PP (P in) (NP (Det my) (N pajamas)))))))\n",
        "\n",
        "\n",
        "We can write these parses down as strings and then let NLTK turn them into trees using the NLTK `Tree` class. (See http://www.nltk.org/api/nltk.html#nltk.tree.Tree as reference for this class, if you want to know more.)"
      ]
    },
    {
      "cell_type": "code",
      "execution_count": 32,
      "metadata": {
        "id": "dDFH2wyqCGL5"
      },
      "outputs": [],
      "source": [
        "parse1 = \"(S (NP I) (VP (VP (V shot) (NP (Det an) (N elephant))) (PP (P in) (NP (Det my) (N pajamas)))))\"\n",
        "parse2 = \"(S (NP I) (VP (V shot) (NP (Det an) (NP (N elephant) (PP (P in) (NP (Det my) (N pajamas)))))))\"\n",
        "\n",
        "pajamas1 = Tree.fromstring(parse1)\n",
        "pajamas2 = Tree.fromstring(parse2)"
      ]
    },
    {
      "cell_type": "code",
      "execution_count": 33,
      "metadata": {
        "colab": {
          "base_uri": "https://localhost:8080/"
        },
        "id": "A1ub_IVQp6T2",
        "outputId": "8abf3202-b952-4db8-bb2c-2737b36f9c2c"
      },
      "outputs": [
        {
          "name": "stdout",
          "output_type": "stream",
          "text": [
            "(S\n",
            "  (NP I)\n",
            "  (VP\n",
            "    (VP (V shot) (NP (Det an) (N elephant)))\n",
            "    (PP (P in) (NP (Det my) (N pajamas)))))\n"
          ]
        }
      ],
      "source": [
        "print(pajamas1)"
      ]
    },
    {
      "cell_type": "markdown",
      "metadata": {
        "id": "EjQ_EvhHCGL5"
      },
      "source": [
        "We can then *pretty-print* these trees:"
      ]
    },
    {
      "cell_type": "code",
      "execution_count": 34,
      "metadata": {
        "colab": {
          "base_uri": "https://localhost:8080/"
        },
        "id": "kSsl34LCCGL6",
        "outputId": "e19a5224-4955-4f5b-dd43-5aab54a846bc"
      },
      "outputs": [
        {
          "name": "stdout",
          "output_type": "stream",
          "text": [
            "     S                                       \n",
            "  ___|______________                          \n",
            " |                  VP                       \n",
            " |         _________|__________               \n",
            " |        VP                   PP            \n",
            " |    ____|___              ___|___           \n",
            " |   |        NP           |       NP        \n",
            " |   |     ___|_____       |    ___|_____     \n",
            " NP  V   Det        N      P  Det        N   \n",
            " |   |    |         |      |   |         |    \n",
            " I  shot  an     elephant  in  my     pajamas\n",
            "\n",
            "     S                                       \n",
            "  ___|__________                              \n",
            " |              VP                           \n",
            " |    __________|______                       \n",
            " |   |                 NP                    \n",
            " |   |     ____________|___                   \n",
            " |   |    |                NP                \n",
            " |   |    |      __________|___               \n",
            " |   |    |     |              PP            \n",
            " |   |    |     |       _______|___           \n",
            " |   |    |     |      |           NP        \n",
            " |   |    |     |      |        ___|_____     \n",
            " NP  V   Det    N      P      Det        N   \n",
            " |   |    |     |      |       |         |    \n",
            " I  shot  an elephant  in      my     pajamas\n",
            "\n"
          ]
        }
      ],
      "source": [
        "pajamas1.pretty_print()\n",
        "pajamas2.pretty_print()"
      ]
    },
    {
      "cell_type": "markdown",
      "metadata": {
        "id": "8UjAkmuXCGL7"
      },
      "source": [
        "# Parsing with CKY"
      ]
    },
    {
      "cell_type": "markdown",
      "metadata": {
        "id": "A8pVcXseCGL8"
      },
      "source": [
        "Let's stick with this sentence for the rest of this lab. We will use CKY to find the 'best' parse for this sentence."
      ]
    },
    {
      "cell_type": "code",
      "execution_count": 35,
      "metadata": {
        "id": "GWkI8S1kCGL8"
      },
      "outputs": [],
      "source": [
        "# Turn the sentence into a list\n",
        "sentence = \"I shot an elephant in my pajamas\".split()\n",
        "# The length of the sentence\n",
        "num_words = len(sentence)"
      ]
    },
    {
      "cell_type": "markdown",
      "metadata": {
        "id": "qtehwdb1CGL8"
      },
      "source": [
        "A PCFG for this sentence can be found in the file `groucho-grammar-1.txt`. We read this in with the function `read_grammar_rules`."
      ]
    },
    {
      "cell_type": "code",
      "execution_count": 36,
      "metadata": {
        "id": "eVASx2r0CGL9"
      },
      "outputs": [],
      "source": [
        "def read_grammar_rules(istream):\n",
        "    \"\"\"Reads grammar rules formatted as 'LHS ||| RHS ||| PROB'.\"\"\"\n",
        "    for line in istream:\n",
        "        line = line.strip()\n",
        "        if not line: continue\n",
        "        fields = line.split('|||')\n",
        "        if len(fields) != 3:\n",
        "            raise ValueError(f\"Three fields were expected: {fields}\")\n",
        "        lhs = fields[0].strip()\n",
        "\n",
        "        if lhs.startswith('[') and lhs.endswith(']'):\n",
        "            lhs = Nonterminal(lhs[1:-1])\n",
        "        else:\n",
        "            raise ValueError(f\"LHS must be a non-terminal: {fields}\")\n",
        "        rhs = fields[1].strip().split()\n",
        "        new_rhs = []\n",
        "        for r in rhs:\n",
        "            if r.startswith('[') and r.endswith(']'):\n",
        "                r = Nonterminal(r[1:-1])\n",
        "            else:\n",
        "                r = Terminal(r)\n",
        "            new_rhs.append(r)\n",
        "\n",
        "        prob = float(fields[2].strip())\n",
        "        yield Rule(lhs, new_rhs, prob)"
      ]
    },
    {
      "cell_type": "code",
      "execution_count": 37,
      "metadata": {
        "colab": {
          "base_uri": "https://localhost:8080/"
        },
        "id": "2UP_-I5XCGL9",
        "outputId": "abd1f90d-74b3-4930-9bef-b97447d6969f",
        "scrolled": false
      },
      "outputs": [
        {
          "name": "stdout",
          "output_type": "stream",
          "text": [
            "The grammar:\n",
            " [S] -> [NP] [VP] (1.0)\n",
            "[PP] -> [P] [NP] (1.0)\n",
            "[NP] -> [Det] [N] (0.2)\n",
            "[NP] -> [Det] [NP] (0.3)\n",
            "[NP] -> [N] [PP] (0.3)\n",
            "[NP] -> 'I' (0.2)\n",
            "[VP] -> [V] [NP] (0.4)\n",
            "[VP] -> [VP] [PP] (0.6)\n",
            "[Det] -> 'an' (0.6)\n",
            "[Det] -> 'my' (0.4)\n",
            "[N] -> 'elephant' (0.5)\n",
            "[N] -> 'pajamas' (0.5)\n",
            "[V] -> 'shot' (1.0)\n",
            "[P] -> 'in' (1.0)\n"
          ]
        }
      ],
      "source": [
        "# Read in the grammar\n",
        "with open('groucho-grammar-1.txt') as F:\n",
        "    grammar = PCFG(read_grammar_rules(F))\n",
        "print(\"The grammar:\\n\", grammar)"
      ]
    },
    {
      "cell_type": "code",
      "execution_count": 38,
      "metadata": {
        "colab": {
          "base_uri": "https://localhost:8080/"
        },
        "id": "RuF8xrv6LIw0",
        "outputId": "450d4279-c02a-4998-8185-b17383e7308a"
      },
      "outputs": [
        {
          "data": {
            "text/plain": [
              "[1.0]"
            ]
          },
          "execution_count": 38,
          "metadata": {},
          "output_type": "execute_result"
        }
      ],
      "source": [
        "[rule.prob for rule in grammar.get(S)]\n",
        "\n"
      ]
    },
    {
      "cell_type": "code",
      "execution_count": 39,
      "metadata": {
        "colab": {
          "base_uri": "https://localhost:8080/"
        },
        "id": "VK68ZwmYSLu9",
        "outputId": "0928b7d4-ee8e-494c-d225-2387339d90bf"
      },
      "outputs": [
        {
          "data": {
            "text/plain": [
              "[Nonterminal('N')]"
            ]
          },
          "execution_count": 39,
          "metadata": {},
          "output_type": "execute_result"
        }
      ],
      "source": [
        "X = get_nonterminals_for_word(grammar, 'pajamas')\n",
        "[key for key in X.keys()]"
      ]
    },
    {
      "cell_type": "code",
      "execution_count": 40,
      "metadata": {
        "id": "8mvAC-mWUymo"
      },
      "outputs": [],
      "source": [
        "for word in sentence: \n",
        "  for rule in grammar.rules: \n",
        "    if word in rule.rhs: \n",
        "      print(rule.rhs)\n",
        "\n",
        "# In the line for A in grammar.rules_rhs[word]:, the code is iterating over the non-terminal symbols (A) that can produce the current word (word) according to the grammar rules."
      ]
    },
    {
      "cell_type": "markdown",
      "metadata": {
        "id": "LRecCE1RCGL-"
      },
      "source": [
        "We will also need the following two dictionaries: `nonterminal2index` mapping from nonterminals to integers (indices); and its inverse, an `index2nonterminal` dictionary."
      ]
    },
    {
      "cell_type": "code",
      "execution_count": 41,
      "metadata": {
        "colab": {
          "base_uri": "https://localhost:8080/"
        },
        "id": "yjPcYJQuCGL-",
        "outputId": "3048d6b0-d4cc-4f58-91c8-24c0716aca49"
      },
      "outputs": [
        {
          "data": {
            "text/plain": [
              "{Nonterminal('Det'): 0,\n",
              " Nonterminal('N'): 1,\n",
              " Nonterminal('NP'): 2,\n",
              " Nonterminal('P'): 3,\n",
              " Nonterminal('PP'): 4,\n",
              " Nonterminal('S'): 5,\n",
              " Nonterminal('V'): 6,\n",
              " Nonterminal('VP'): 7}"
            ]
          },
          "execution_count": 41,
          "metadata": {},
          "output_type": "execute_result"
        }
      ],
      "source": [
        "num_nonterminals = len(grammar.nonterminals)\n",
        "\n",
        "# Make a nonterminal2index and a index2nonterminal dictionary\n",
        "n2i = defaultdict(lambda: len(n2i))\n",
        "i2n = dict()\n",
        "\n",
        "# sort nonterminals to make the mapping deterministic\n",
        "for nt in sorted(grammar.nonterminals):\n",
        "    i2n[n2i[nt]] = nt\n",
        "\n",
        "# Stop defaultdict behavior of n2i\n",
        "n2i = dict(n2i)\n",
        "\n",
        "n2i"
      ]
    },
    {
      "cell_type": "markdown",
      "metadata": {
        "id": "5x_4Mb1xCGL-"
      },
      "source": [
        "## The charts\n",
        "\n",
        "Now we are ready to introduce the chart datastructures. We need a chart to store the **scores** and a chart to store the **backpointers**.\n",
        "\n",
        "Both of these will be 3-dimensional numpy arrays: one named `score` holding the probabilities of intermediate results; one named `back` to store the backpointers in. We will use the following indexing convention for these charts:\n",
        "\n",
        "* Format of the chart holding the **scores** `score[A][begin][end] = probability`.\n",
        "This is interpreted as the probability of the constituent between `begin:end` being parsed with `A` as its root.      \n",
        "         \n",
        "* Format of the chart holding the **backpointers** `back[A][begin][end] = (split, B, C)`. \n",
        "This is interpreted as the constituent `begin:end` can be combined with a rule `A -> B C` where `begin:split` is `B` and `split:end` is `C`.\n",
        "\n",
        "This indexing convention is convenient for printing. See what happens when we print `back` below: we get `num_nonterminal` slices, each a numpy array of shape `[n_words+1, n_words+1]`. This is easier to read than the format `score[i][j][A]`.\n",
        "\n",
        "**[Note]** Here we pretended `A` is both the nonterminal as well as the index. In our implementation `A` will be the nonterminal and the index for `A` will be `n2i[A]`."
      ]
    },
    {
      "cell_type": "markdown",
      "metadata": {
        "id": "pCtGbwpQCGL-"
      },
      "source": [
        "Let's show you what we mean:"
      ]
    },
    {
      "cell_type": "code",
      "execution_count": 42,
      "metadata": {
        "id": "tqNdJjfrCGL-",
        "scrolled": true
      },
      "outputs": [],
      "source": [
        "# A numpy array zeros\n",
        "score = np.zeros((num_nonterminals,\n",
        "                  num_words + 1, \n",
        "                  num_words + 1))\n",
        "\n",
        "# A numpy array that can store arbitrary data (we set dtype to object)\n",
        "back = np.zeros((num_nonterminals,\n",
        "                 num_words + 1, \n",
        "                 num_words + 1), dtype=object)"
      ]
    },
    {
      "cell_type": "markdown",
      "metadata": {
        "id": "H0YJ227uCGL-"
      },
      "source": [
        "The following illustrates the way you will use the `back` chart. In this example, your parser recognized that the entire sequence is S while the words between 0 and 2 form NP, and the words between 2 and the end of the sentence form VP (and nothing else yet):"
      ]
    },
    {
      "cell_type": "code",
      "execution_count": 43,
      "metadata": {
        "colab": {
          "base_uri": "https://localhost:8080/"
        },
        "id": "r7KOKnTuCGL_",
        "outputId": "07c40f65-0f54-46e8-9039-a0c5f859a23c",
        "scrolled": true
      },
      "outputs": [
        {
          "data": {
            "text/plain": [
              "array([[[0, 0, 0, 0, 0, 0, 0, 0],\n",
              "        [0, 0, 0, 0, 0, 0, 0, 0],\n",
              "        [0, 0, 0, 0, 0, 0, 0, 0],\n",
              "        [0, 0, 0, 0, 0, 0, 0, 0],\n",
              "        [0, 0, 0, 0, 0, 0, 0, 0],\n",
              "        [0, 0, 0, 0, 0, 0, 0, 0],\n",
              "        [0, 0, 0, 0, 0, 0, 0, 0],\n",
              "        [0, 0, 0, 0, 0, 0, 0, 0]],\n",
              "\n",
              "       [[0, 0, 0, 0, 0, 0, 0, 0],\n",
              "        [0, 0, 0, 0, 0, 0, 0, 0],\n",
              "        [0, 0, 0, 0, 0, 0, 0, 0],\n",
              "        [0, 0, 0, 0, 0, 0, 0, 0],\n",
              "        [0, 0, 0, 0, 0, 0, 0, 0],\n",
              "        [0, 0, 0, 0, 0, 0, 0, 0],\n",
              "        [0, 0, 0, 0, 0, 0, 0, 0],\n",
              "        [0, 0, 0, 0, 0, 0, 0, 0]],\n",
              "\n",
              "       [[0, 0, 0, 0, 0, 0, 0, 0],\n",
              "        [0, 0, 0, 0, 0, 0, 0, 0],\n",
              "        [0, 0, 0, 0, 0, 0, 0, 0],\n",
              "        [0, 0, 0, 0, 0, 0, 0, 0],\n",
              "        [0, 0, 0, 0, 0, 0, 0, 0],\n",
              "        [0, 0, 0, 0, 0, 0, 0, 0],\n",
              "        [0, 0, 0, 0, 0, 0, 0, 0],\n",
              "        [0, 0, 0, 0, 0, 0, 0, 0]],\n",
              "\n",
              "       [[0, 0, 0, 0, 0, 0, 0, 0],\n",
              "        [0, 0, 0, 0, 0, 0, 0, 0],\n",
              "        [0, 0, 0, 0, 0, 0, 0, 0],\n",
              "        [0, 0, 0, 0, 0, 0, 0, 0],\n",
              "        [0, 0, 0, 0, 0, 0, 0, 0],\n",
              "        [0, 0, 0, 0, 0, 0, 0, 0],\n",
              "        [0, 0, 0, 0, 0, 0, 0, 0],\n",
              "        [0, 0, 0, 0, 0, 0, 0, 0]],\n",
              "\n",
              "       [[0, 0, 0, 0, 0, 0, 0, 0],\n",
              "        [0, 0, 0, 0, 0, 0, 0, 0],\n",
              "        [0, 0, 0, 0, 0, 0, 0, 0],\n",
              "        [0, 0, 0, 0, 0, 0, 0, 0],\n",
              "        [0, 0, 0, 0, 0, 0, 0, 0],\n",
              "        [0, 0, 0, 0, 0, 0, 0, 0],\n",
              "        [0, 0, 0, 0, 0, 0, 0, 0],\n",
              "        [0, 0, 0, 0, 0, 0, 0, 0]],\n",
              "\n",
              "       [[0, 0, 0, 0, 0, 0, 0, (2, Nonterminal('NP'), Nonterminal('VP'))],\n",
              "        [0, 0, 0, 0, 0, 0, 0, 0],\n",
              "        [0, 0, 0, 0, 0, 0, 0, 0],\n",
              "        [0, 0, 0, 0, 0, 0, 0, 0],\n",
              "        [0, 0, 0, 0, 0, 0, 0, 0],\n",
              "        [0, 0, 0, 0, 0, 0, 0, 0],\n",
              "        [0, 0, 0, 0, 0, 0, 0, 0],\n",
              "        [0, 0, 0, 0, 0, 0, 0, 0]],\n",
              "\n",
              "       [[0, 0, 0, 0, 0, 0, 0, 0],\n",
              "        [0, 0, 0, 0, 0, 0, 0, 0],\n",
              "        [0, 0, 0, 0, 0, 0, 0, 0],\n",
              "        [0, 0, 0, 0, 0, 0, 0, 0],\n",
              "        [0, 0, 0, 0, 0, 0, 0, 0],\n",
              "        [0, 0, 0, 0, 0, 0, 0, 0],\n",
              "        [0, 0, 0, 0, 0, 0, 0, 0],\n",
              "        [0, 0, 0, 0, 0, 0, 0, 0]],\n",
              "\n",
              "       [[0, 0, 0, 0, 0, 0, 0, 0],\n",
              "        [0, 0, 0, 0, 0, 0, 0, 0],\n",
              "        [0, 0, 0, 0, 0, 0, 0, 0],\n",
              "        [0, 0, 0, 0, 0, 0, 0, 0],\n",
              "        [0, 0, 0, 0, 0, 0, 0, 0],\n",
              "        [0, 0, 0, 0, 0, 0, 0, 0],\n",
              "        [0, 0, 0, 0, 0, 0, 0, 0],\n",
              "        [0, 0, 0, 0, 0, 0, 0, 0]]], dtype=object)"
            ]
          },
          "execution_count": 43,
          "metadata": {},
          "output_type": "execute_result"
        }
      ],
      "source": [
        "# Illustration of the backpointer array\n",
        "back[n2i[S]][0][-1] = (2,NP,VP) \n",
        "back"
      ]
    },
    {
      "cell_type": "markdown",
      "metadata": {
        "id": "vkUx3Mc5CGL_"
      },
      "source": [
        "## Ex1 [60pt] CKY parsing\n",
        "\n",
        "Implement the **CKY** algorithm. Follow the pseudo-code given in the lecture-slides (or alternatively in J&M). The code must comply to the following:\n",
        "\n",
        "* The function `cky` takes a sentence (list of words), a grammar (an instance of PCFG), and a n2i non-terminals-to-index dictionary.\n",
        "* The function `cky` returns the filled-in score-chart and backpointer-chart, following the format established above.\n",
        "* No global variables should be accessed from the body of the function (except for the predefined classes).\n",
        "\n",
        "**[Hint]** This is the moment to make good use of the methods of the classes `PCFG`, `Rule`, `Nonterminal`, and `Terminal`!"
      ]
    },
    {
      "cell_type": "code",
      "execution_count": 44,
      "metadata": {
        "id": "i5VbmrfmMooX"
      },
      "outputs": [],
      "source": [
        "from numpy.lib.function_base import kaiser\n",
        "#MY FUNCTION\n",
        "def cky(sentence, grammar, n2i):\n",
        "    \"\"\"\n",
        "    The CKY algorithm.\n",
        "    \n",
        "    :param sentence: a list of words\n",
        "    :param grammar: an instance of the class PCFG\n",
        "    :param n2i: a dictionary mapping from Nonterminals to indices\n",
        "    :return score: the filled in scores chart\n",
        "    :return back: the filled in backpointers chart \n",
        "    \"\"\"\n",
        "    num_words = len(sentence)\n",
        "    num_nonterminals = len(grammar.nonterminals)\n",
        "    \n",
        "    # A numpy array to store the scores of intermediate parses\n",
        "    score = np.zeros((num_nonterminals,\n",
        "                  num_words + 1, \n",
        "                  num_words + 1))\n",
        "\n",
        "    # A numpy array to store the backpointers\n",
        "    back = np.zeros((num_nonterminals,\n",
        "                     num_words + 1, \n",
        "                     num_words + 1), dtype=object)\n",
        "    # Initialize an empty table that will store the parsing information.\n",
        "\n",
        "    for j in range(num_words):\n",
        "      for A in grammar.nonterminals: \n",
        "        rules = grammar.get(A)\n",
        "        for rule in rules: \n",
        "          if rule.is_unary() == True and str(rule.rhs[0]) == str(Terminal(sentence[j])): #NK change check to is_unary\n",
        "                  back[n2i[A]][j][j] = A\n",
        "\n",
        "                  score[n2i[A]][j][j] = rule.prob \n",
        "\n",
        "\n",
        "    # Fill in the upper triangular part of the CYK table\n",
        "    for length in range(2, num_words+1 ):\n",
        "        for i in range(num_words - length +1):\n",
        "            j = i + length\n",
        "            for k in range(i, j):\n",
        "                print(sentence[k])\n",
        "\n",
        "                B = back[:, i, j - length]\n",
        "                C = back[:, k, j-1, ]\n",
        "\n",
        "                B_score = score[:,i, j - length, ]\n",
        "                C_score = score[:, k, j-1]\n",
        "\n",
        "    \n",
        "                print(\"B\", str(B))\n",
        "                print(\"C\", str(C))\n",
        "\n",
        "                print(\"B_score\", str(sum(B_score)))\n",
        "                print(\"C_score\", str(sum(C_score)))\n",
        "\n",
        "\n",
        "                for A in grammar.nonterminals: \n",
        "                    rules = grammar.get(A)\n",
        "\n",
        "                    for rule in rules: \n",
        "                      if rule.is_binary(): \n",
        "                      \n",
        "                        # if (rule.rhs[0] in B) and (rule.rhs[1] in C):\n",
        "                        if np.any(B == rule.rhs[0]) and np.any(C == rule.rhs[1]):\n",
        "\n",
        "                          print(rule)\n",
        "   \n",
        "                          A = rule.lhs\n",
        "                          back[n2i[A]][i][j] = A\n",
        "                          \n",
        "                          #Calculate probability by multiplyiing probabilities of previous cells\n",
        "                          print(\"CALCULATION:\", sum(B_score), \"*\", sum(C_score), \"*\", rule.prob, \"=\", sum(B_score)* sum(C_score) * rule.prob)\n",
        "                          \n",
        "                          score[n2i[A]][i][j] = sum(B_score) * sum(C_score) * rule.prob\n",
        "       \n",
        "\n",
        "            print(\"------------------------\")\n",
        "\n",
        "        print(\"------------------------\")\n",
        "\n",
        "\n",
        "\n",
        "\n",
        "\n",
        "    return score, back"
      ]
    },
    {
      "cell_type": "code",
      "execution_count": 45,
      "metadata": {
        "colab": {
          "base_uri": "https://localhost:8080/"
        },
        "id": "DdyvogQICGMA",
        "outputId": "cb947977-42ae-466c-e9a4-cd1326f3ce31"
      },
      "outputs": [
        {
          "name": "stdout",
          "output_type": "stream",
          "text": [
            "I\n",
            "B [0 0 Nonterminal('NP') 0 0 0 0 0]\n",
            "C [0 0 0 0 0 0 0 0]\n",
            "B_score 0.2\n",
            "C_score 0.0\n",
            "shot\n",
            "B [0 0 Nonterminal('NP') 0 0 0 0 0]\n",
            "C [0 0 0 0 0 0 Nonterminal('V') 0]\n",
            "B_score 0.2\n",
            "C_score 1.0\n",
            "------------------------\n",
            "shot\n",
            "B [0 0 0 0 0 0 Nonterminal('V') 0]\n",
            "C [0 0 0 0 0 0 0 0]\n",
            "B_score 1.0\n",
            "C_score 0.0\n",
            "an\n",
            "B [0 0 0 0 0 0 Nonterminal('V') 0]\n",
            "C [Nonterminal('Det') 0 0 0 0 0 0 0]\n",
            "B_score 1.0\n",
            "C_score 0.6\n",
            "------------------------\n",
            "an\n",
            "B [Nonterminal('Det') 0 0 0 0 0 0 0]\n",
            "C [0 0 0 0 0 0 0 0]\n",
            "B_score 0.6\n",
            "C_score 0.0\n",
            "elephant\n",
            "B [Nonterminal('Det') 0 0 0 0 0 0 0]\n",
            "C [0 Nonterminal('N') 0 0 0 0 0 0]\n",
            "B_score 0.6\n",
            "C_score 0.5\n",
            "[NP] -> [Det] [N] (0.2)\n",
            "CALCULATION: 0.6 * 0.5 * 0.2 = 0.06\n",
            "------------------------\n",
            "elephant\n",
            "B [0 Nonterminal('N') 0 0 0 0 0 0]\n",
            "C [0 0 0 0 0 0 0 0]\n",
            "B_score 0.5\n",
            "C_score 0.0\n",
            "in\n",
            "B [0 Nonterminal('N') 0 0 0 0 0 0]\n",
            "C [0 0 0 Nonterminal('P') 0 0 0 0]\n",
            "B_score 0.5\n",
            "C_score 1.0\n",
            "------------------------\n",
            "in\n",
            "B [0 0 0 Nonterminal('P') 0 0 0 0]\n",
            "C [0 0 0 0 0 0 0 0]\n",
            "B_score 1.0\n",
            "C_score 0.0\n",
            "my\n",
            "B [0 0 0 Nonterminal('P') 0 0 0 0]\n",
            "C [Nonterminal('Det') 0 0 0 0 0 0 0]\n",
            "B_score 1.0\n",
            "C_score 0.4\n",
            "------------------------\n",
            "my\n",
            "B [Nonterminal('Det') 0 0 0 0 0 0 0]\n",
            "C [0 0 0 0 0 0 0 0]\n",
            "B_score 0.4\n",
            "C_score 0.0\n",
            "pajamas\n",
            "B [Nonterminal('Det') 0 0 0 0 0 0 0]\n",
            "C [0 Nonterminal('N') 0 0 0 0 0 0]\n",
            "B_score 0.4\n",
            "C_score 0.5\n",
            "[NP] -> [Det] [N] (0.2)\n",
            "CALCULATION: 0.4 * 0.5 * 0.2 = 0.04000000000000001\n",
            "------------------------\n",
            "------------------------\n",
            "I\n",
            "B [0 0 Nonterminal('NP') 0 0 0 0 0]\n",
            "C [0 0 0 0 0 0 0 0]\n",
            "B_score 0.2\n",
            "C_score 0.0\n",
            "shot\n",
            "B [0 0 Nonterminal('NP') 0 0 0 0 0]\n",
            "C [0 0 0 0 0 0 0 0]\n",
            "B_score 0.2\n",
            "C_score 0.0\n",
            "an\n",
            "B [0 0 Nonterminal('NP') 0 0 0 0 0]\n",
            "C [Nonterminal('Det') 0 0 0 0 0 0 0]\n",
            "B_score 0.2\n",
            "C_score 0.6\n",
            "------------------------\n",
            "shot\n",
            "B [0 0 0 0 0 0 Nonterminal('V') 0]\n",
            "C [0 0 0 0 0 0 0 0]\n",
            "B_score 1.0\n",
            "C_score 0.0\n",
            "an\n",
            "B [0 0 0 0 0 0 Nonterminal('V') 0]\n",
            "C [0 0 0 0 0 0 0 0]\n",
            "B_score 1.0\n",
            "C_score 0.0\n",
            "elephant\n",
            "B [0 0 0 0 0 0 Nonterminal('V') 0]\n",
            "C [0 Nonterminal('N') 0 0 0 0 0 0]\n",
            "B_score 1.0\n",
            "C_score 0.5\n",
            "------------------------\n",
            "an\n",
            "B [Nonterminal('Det') 0 0 0 0 0 0 0]\n",
            "C [0 0 Nonterminal('NP') 0 0 0 0 0]\n",
            "B_score 0.6\n",
            "C_score 0.06\n",
            "[NP] -> [Det] [NP] (0.3)\n",
            "CALCULATION: 0.6 * 0.06 * 0.3 = 0.010799999999999999\n",
            "elephant\n",
            "B [Nonterminal('Det') 0 0 0 0 0 0 0]\n",
            "C [0 0 0 0 0 0 0 0]\n",
            "B_score 0.6\n",
            "C_score 0.0\n",
            "in\n",
            "B [Nonterminal('Det') 0 0 0 0 0 0 0]\n",
            "C [0 0 0 Nonterminal('P') 0 0 0 0]\n",
            "B_score 0.6\n",
            "C_score 1.0\n",
            "------------------------\n",
            "elephant\n",
            "B [0 Nonterminal('N') 0 0 0 0 0 0]\n",
            "C [0 0 0 0 0 0 0 0]\n",
            "B_score 0.5\n",
            "C_score 0.0\n",
            "in\n",
            "B [0 Nonterminal('N') 0 0 0 0 0 0]\n",
            "C [0 0 0 0 0 0 0 0]\n",
            "B_score 0.5\n",
            "C_score 0.0\n",
            "my\n",
            "B [0 Nonterminal('N') 0 0 0 0 0 0]\n",
            "C [Nonterminal('Det') 0 0 0 0 0 0 0]\n",
            "B_score 0.5\n",
            "C_score 0.4\n",
            "------------------------\n",
            "in\n",
            "B [0 0 0 Nonterminal('P') 0 0 0 0]\n",
            "C [0 0 0 0 0 0 0 0]\n",
            "B_score 1.0\n",
            "C_score 0.0\n",
            "my\n",
            "B [0 0 0 Nonterminal('P') 0 0 0 0]\n",
            "C [0 0 0 0 0 0 0 0]\n",
            "B_score 1.0\n",
            "C_score 0.0\n",
            "pajamas\n",
            "B [0 0 0 Nonterminal('P') 0 0 0 0]\n",
            "C [0 Nonterminal('N') 0 0 0 0 0 0]\n",
            "B_score 1.0\n",
            "C_score 0.5\n",
            "------------------------\n",
            "------------------------\n",
            "I\n",
            "B [0 0 Nonterminal('NP') 0 0 0 0 0]\n",
            "C [0 0 0 0 0 0 0 0]\n",
            "B_score 0.2\n",
            "C_score 0.0\n",
            "shot\n",
            "B [0 0 Nonterminal('NP') 0 0 0 0 0]\n",
            "C [0 0 0 0 0 0 0 0]\n",
            "B_score 0.2\n",
            "C_score 0.0\n",
            "an\n",
            "B [0 0 Nonterminal('NP') 0 0 0 0 0]\n",
            "C [0 0 0 0 0 0 0 0]\n",
            "B_score 0.2\n",
            "C_score 0.0\n",
            "elephant\n",
            "B [0 0 Nonterminal('NP') 0 0 0 0 0]\n",
            "C [0 Nonterminal('N') 0 0 0 0 0 0]\n",
            "B_score 0.2\n",
            "C_score 0.5\n",
            "------------------------\n",
            "shot\n",
            "B [0 0 0 0 0 0 Nonterminal('V') 0]\n",
            "C [0 0 0 0 0 0 0 0]\n",
            "B_score 1.0\n",
            "C_score 0.0\n",
            "an\n",
            "B [0 0 0 0 0 0 Nonterminal('V') 0]\n",
            "C [0 0 Nonterminal('NP') 0 0 0 0 0]\n",
            "B_score 1.0\n",
            "C_score 0.06\n",
            "[VP] -> [V] [NP] (0.4)\n",
            "CALCULATION: 1.0 * 0.06 * 0.4 = 0.024\n",
            "elephant\n",
            "B [0 0 0 0 0 0 Nonterminal('V') 0]\n",
            "C [0 0 0 0 0 0 0 0]\n",
            "B_score 1.0\n",
            "C_score 0.0\n",
            "in\n",
            "B [0 0 0 0 0 0 Nonterminal('V') 0]\n",
            "C [0 0 0 Nonterminal('P') 0 0 0 0]\n",
            "B_score 1.0\n",
            "C_score 1.0\n",
            "------------------------\n",
            "an\n",
            "B [Nonterminal('Det') 0 0 0 0 0 0 0]\n",
            "C [0 0 Nonterminal('NP') 0 0 0 0 0]\n",
            "B_score 0.6\n",
            "C_score 0.010799999999999999\n",
            "[NP] -> [Det] [NP] (0.3)\n",
            "CALCULATION: 0.6 * 0.010799999999999999 * 0.3 = 0.0019439999999999995\n",
            "elephant\n",
            "B [Nonterminal('Det') 0 0 0 0 0 0 0]\n",
            "C [0 0 0 0 0 0 0 0]\n",
            "B_score 0.6\n",
            "C_score 0.0\n",
            "in\n",
            "B [Nonterminal('Det') 0 0 0 0 0 0 0]\n",
            "C [0 0 0 0 0 0 0 0]\n",
            "B_score 0.6\n",
            "C_score 0.0\n",
            "my\n",
            "B [Nonterminal('Det') 0 0 0 0 0 0 0]\n",
            "C [Nonterminal('Det') 0 0 0 0 0 0 0]\n",
            "B_score 0.6\n",
            "C_score 0.4\n",
            "------------------------\n",
            "elephant\n",
            "B [0 Nonterminal('N') 0 0 0 0 0 0]\n",
            "C [0 0 0 0 0 0 0 0]\n",
            "B_score 0.5\n",
            "C_score 0.0\n",
            "in\n",
            "B [0 Nonterminal('N') 0 0 0 0 0 0]\n",
            "C [0 0 0 0 0 0 0 0]\n",
            "B_score 0.5\n",
            "C_score 0.0\n",
            "my\n",
            "B [0 Nonterminal('N') 0 0 0 0 0 0]\n",
            "C [0 0 0 0 0 0 0 0]\n",
            "B_score 0.5\n",
            "C_score 0.0\n",
            "pajamas\n",
            "B [0 Nonterminal('N') 0 0 0 0 0 0]\n",
            "C [0 Nonterminal('N') 0 0 0 0 0 0]\n",
            "B_score 0.5\n",
            "C_score 0.5\n",
            "------------------------\n",
            "------------------------\n",
            "I\n",
            "B [0 0 Nonterminal('NP') 0 0 0 0 0]\n",
            "C [0 0 0 0 0 0 0 0]\n",
            "B_score 0.2\n",
            "C_score 0.0\n",
            "shot\n",
            "B [0 0 Nonterminal('NP') 0 0 0 0 0]\n",
            "C [0 0 0 0 0 0 0 0]\n",
            "B_score 0.2\n",
            "C_score 0.0\n",
            "an\n",
            "B [0 0 Nonterminal('NP') 0 0 0 0 0]\n",
            "C [0 0 Nonterminal('NP') 0 0 0 0 0]\n",
            "B_score 0.2\n",
            "C_score 0.06\n",
            "elephant\n",
            "B [0 0 Nonterminal('NP') 0 0 0 0 0]\n",
            "C [0 0 0 0 0 0 0 0]\n",
            "B_score 0.2\n",
            "C_score 0.0\n",
            "in\n",
            "B [0 0 Nonterminal('NP') 0 0 0 0 0]\n",
            "C [0 0 0 Nonterminal('P') 0 0 0 0]\n",
            "B_score 0.2\n",
            "C_score 1.0\n",
            "------------------------\n",
            "shot\n",
            "B [0 0 0 0 0 0 Nonterminal('V') 0]\n",
            "C [0 0 0 0 0 0 0 Nonterminal('VP')]\n",
            "B_score 1.0\n",
            "C_score 0.024\n",
            "an\n",
            "B [0 0 0 0 0 0 Nonterminal('V') 0]\n",
            "C [0 0 Nonterminal('NP') 0 0 0 0 0]\n",
            "B_score 1.0\n",
            "C_score 0.010799999999999999\n",
            "[VP] -> [V] [NP] (0.4)\n",
            "CALCULATION: 1.0 * 0.010799999999999999 * 0.4 = 0.00432\n",
            "elephant\n",
            "B [0 0 0 0 0 0 Nonterminal('V') 0]\n",
            "C [0 0 0 0 0 0 0 0]\n",
            "B_score 1.0\n",
            "C_score 0.0\n",
            "in\n",
            "B [0 0 0 0 0 0 Nonterminal('V') 0]\n",
            "C [0 0 0 0 0 0 0 0]\n",
            "B_score 1.0\n",
            "C_score 0.0\n",
            "my\n",
            "B [0 0 0 0 0 0 Nonterminal('V') 0]\n",
            "C [Nonterminal('Det') 0 0 0 0 0 0 0]\n",
            "B_score 1.0\n",
            "C_score 0.4\n",
            "------------------------\n",
            "an\n",
            "B [Nonterminal('Det') 0 0 0 0 0 0 0]\n",
            "C [0 0 Nonterminal('NP') 0 0 0 0 0]\n",
            "B_score 0.6\n",
            "C_score 0.0019439999999999995\n",
            "[NP] -> [Det] [NP] (0.3)\n",
            "CALCULATION: 0.6 * 0.0019439999999999995 * 0.3 = 0.00034991999999999993\n",
            "elephant\n",
            "B [Nonterminal('Det') 0 0 0 0 0 0 0]\n",
            "C [0 0 0 0 0 0 0 0]\n",
            "B_score 0.6\n",
            "C_score 0.0\n",
            "in\n",
            "B [Nonterminal('Det') 0 0 0 0 0 0 0]\n",
            "C [0 0 0 0 0 0 0 0]\n",
            "B_score 0.6\n",
            "C_score 0.0\n",
            "my\n",
            "B [Nonterminal('Det') 0 0 0 0 0 0 0]\n",
            "C [0 0 0 0 0 0 0 0]\n",
            "B_score 0.6\n",
            "C_score 0.0\n",
            "pajamas\n",
            "B [Nonterminal('Det') 0 0 0 0 0 0 0]\n",
            "C [0 Nonterminal('N') 0 0 0 0 0 0]\n",
            "B_score 0.6\n",
            "C_score 0.5\n",
            "[NP] -> [Det] [N] (0.2)\n",
            "CALCULATION: 0.6 * 0.5 * 0.2 = 0.06\n",
            "------------------------\n",
            "------------------------\n",
            "I\n",
            "B [0 0 Nonterminal('NP') 0 0 0 0 0]\n",
            "C [0 0 0 0 0 0 0 0]\n",
            "B_score 0.2\n",
            "C_score 0.0\n",
            "shot\n",
            "B [0 0 Nonterminal('NP') 0 0 0 0 0]\n",
            "C [0 0 0 0 0 0 0 Nonterminal('VP')]\n",
            "B_score 0.2\n",
            "C_score 0.024\n",
            "[S] -> [NP] [VP] (1.0)\n",
            "CALCULATION: 0.2 * 0.024 * 1.0 = 0.0048000000000000004\n",
            "an\n",
            "B [0 0 Nonterminal('NP') 0 0 0 0 0]\n",
            "C [0 0 Nonterminal('NP') 0 0 0 0 0]\n",
            "B_score 0.2\n",
            "C_score 0.010799999999999999\n",
            "elephant\n",
            "B [0 0 Nonterminal('NP') 0 0 0 0 0]\n",
            "C [0 0 0 0 0 0 0 0]\n",
            "B_score 0.2\n",
            "C_score 0.0\n",
            "in\n",
            "B [0 0 Nonterminal('NP') 0 0 0 0 0]\n",
            "C [0 0 0 0 0 0 0 0]\n",
            "B_score 0.2\n",
            "C_score 0.0\n",
            "my\n",
            "B [0 0 Nonterminal('NP') 0 0 0 0 0]\n",
            "C [Nonterminal('Det') 0 0 0 0 0 0 0]\n",
            "B_score 0.2\n",
            "C_score 0.4\n",
            "------------------------\n",
            "shot\n",
            "B [0 0 0 0 0 0 Nonterminal('V') 0]\n",
            "C [0 0 0 0 0 0 0 Nonterminal('VP')]\n",
            "B_score 1.0\n",
            "C_score 0.00432\n",
            "an\n",
            "B [0 0 0 0 0 0 Nonterminal('V') 0]\n",
            "C [0 0 Nonterminal('NP') 0 0 0 0 0]\n",
            "B_score 1.0\n",
            "C_score 0.0019439999999999995\n",
            "[VP] -> [V] [NP] (0.4)\n",
            "CALCULATION: 1.0 * 0.0019439999999999995 * 0.4 = 0.0007775999999999998\n",
            "elephant\n",
            "B [0 0 0 0 0 0 Nonterminal('V') 0]\n",
            "C [0 0 0 0 0 0 0 0]\n",
            "B_score 1.0\n",
            "C_score 0.0\n",
            "in\n",
            "B [0 0 0 0 0 0 Nonterminal('V') 0]\n",
            "C [0 0 0 0 0 0 0 0]\n",
            "B_score 1.0\n",
            "C_score 0.0\n",
            "my\n",
            "B [0 0 0 0 0 0 Nonterminal('V') 0]\n",
            "C [0 0 0 0 0 0 0 0]\n",
            "B_score 1.0\n",
            "C_score 0.0\n",
            "pajamas\n",
            "B [0 0 0 0 0 0 Nonterminal('V') 0]\n",
            "C [0 Nonterminal('N') 0 0 0 0 0 0]\n",
            "B_score 1.0\n",
            "C_score 0.5\n",
            "------------------------\n",
            "------------------------\n",
            "I\n",
            "B [0 0 Nonterminal('NP') 0 0 0 0 0]\n",
            "C [0 0 0 0 0 Nonterminal('S') 0 0]\n",
            "B_score 0.2\n",
            "C_score 0.0048000000000000004\n",
            "shot\n",
            "B [0 0 Nonterminal('NP') 0 0 0 0 0]\n",
            "C [0 0 0 0 0 0 0 Nonterminal('VP')]\n",
            "B_score 0.2\n",
            "C_score 0.00432\n",
            "[S] -> [NP] [VP] (1.0)\n",
            "CALCULATION: 0.2 * 0.00432 * 1.0 = 0.0008640000000000001\n",
            "an\n",
            "B [0 0 Nonterminal('NP') 0 0 0 0 0]\n",
            "C [0 0 Nonterminal('NP') 0 0 0 0 0]\n",
            "B_score 0.2\n",
            "C_score 0.0019439999999999995\n",
            "elephant\n",
            "B [0 0 Nonterminal('NP') 0 0 0 0 0]\n",
            "C [0 0 0 0 0 0 0 0]\n",
            "B_score 0.2\n",
            "C_score 0.0\n",
            "in\n",
            "B [0 0 Nonterminal('NP') 0 0 0 0 0]\n",
            "C [0 0 0 0 0 0 0 0]\n",
            "B_score 0.2\n",
            "C_score 0.0\n",
            "my\n",
            "B [0 0 Nonterminal('NP') 0 0 0 0 0]\n",
            "C [0 0 0 0 0 0 0 0]\n",
            "B_score 0.2\n",
            "C_score 0.0\n",
            "pajamas\n",
            "B [0 0 Nonterminal('NP') 0 0 0 0 0]\n",
            "C [0 Nonterminal('N') 0 0 0 0 0 0]\n",
            "B_score 0.2\n",
            "C_score 0.5\n",
            "------------------------\n",
            "------------------------\n",
            "[[[0.000e+00 0.000e+00 0.000e+00 0.000e+00 0.000e+00 0.000e+00 0.000e+00\n",
            "   0.000e+00]\n",
            "  [0.000e+00 0.000e+00 0.000e+00 0.000e+00 0.000e+00 0.000e+00 0.000e+00\n",
            "   0.000e+00]\n",
            "  [0.000e+00 0.000e+00 6.000e-01 0.000e+00 0.000e+00 0.000e+00 0.000e+00\n",
            "   0.000e+00]\n",
            "  [0.000e+00 0.000e+00 0.000e+00 0.000e+00 0.000e+00 0.000e+00 0.000e+00\n",
            "   0.000e+00]\n",
            "  [0.000e+00 0.000e+00 0.000e+00 0.000e+00 0.000e+00 0.000e+00 0.000e+00\n",
            "   0.000e+00]\n",
            "  [0.000e+00 0.000e+00 0.000e+00 0.000e+00 0.000e+00 4.000e-01 0.000e+00\n",
            "   0.000e+00]\n",
            "  [0.000e+00 0.000e+00 0.000e+00 0.000e+00 0.000e+00 0.000e+00 0.000e+00\n",
            "   0.000e+00]\n",
            "  [0.000e+00 0.000e+00 0.000e+00 0.000e+00 0.000e+00 0.000e+00 0.000e+00\n",
            "   0.000e+00]]\n",
            "\n",
            " [[0.000e+00 0.000e+00 0.000e+00 0.000e+00 0.000e+00 0.000e+00 0.000e+00\n",
            "   0.000e+00]\n",
            "  [0.000e+00 0.000e+00 0.000e+00 0.000e+00 0.000e+00 0.000e+00 0.000e+00\n",
            "   0.000e+00]\n",
            "  [0.000e+00 0.000e+00 0.000e+00 0.000e+00 0.000e+00 0.000e+00 0.000e+00\n",
            "   0.000e+00]\n",
            "  [0.000e+00 0.000e+00 0.000e+00 5.000e-01 0.000e+00 0.000e+00 0.000e+00\n",
            "   0.000e+00]\n",
            "  [0.000e+00 0.000e+00 0.000e+00 0.000e+00 0.000e+00 0.000e+00 0.000e+00\n",
            "   0.000e+00]\n",
            "  [0.000e+00 0.000e+00 0.000e+00 0.000e+00 0.000e+00 0.000e+00 0.000e+00\n",
            "   0.000e+00]\n",
            "  [0.000e+00 0.000e+00 0.000e+00 0.000e+00 0.000e+00 0.000e+00 5.000e-01\n",
            "   0.000e+00]\n",
            "  [0.000e+00 0.000e+00 0.000e+00 0.000e+00 0.000e+00 0.000e+00 0.000e+00\n",
            "   0.000e+00]]\n",
            "\n",
            " [[2.000e-01 0.000e+00 0.000e+00 0.000e+00 0.000e+00 0.000e+00 0.000e+00\n",
            "   0.000e+00]\n",
            "  [0.000e+00 0.000e+00 0.000e+00 0.000e+00 0.000e+00 0.000e+00 0.000e+00\n",
            "   0.000e+00]\n",
            "  [0.000e+00 0.000e+00 0.000e+00 0.000e+00 6.000e-02 1.080e-02 1.944e-03\n",
            "   6.000e-02]\n",
            "  [0.000e+00 0.000e+00 0.000e+00 0.000e+00 0.000e+00 0.000e+00 0.000e+00\n",
            "   0.000e+00]\n",
            "  [0.000e+00 0.000e+00 0.000e+00 0.000e+00 0.000e+00 0.000e+00 0.000e+00\n",
            "   0.000e+00]\n",
            "  [0.000e+00 0.000e+00 0.000e+00 0.000e+00 0.000e+00 0.000e+00 0.000e+00\n",
            "   4.000e-02]\n",
            "  [0.000e+00 0.000e+00 0.000e+00 0.000e+00 0.000e+00 0.000e+00 0.000e+00\n",
            "   0.000e+00]\n",
            "  [0.000e+00 0.000e+00 0.000e+00 0.000e+00 0.000e+00 0.000e+00 0.000e+00\n",
            "   0.000e+00]]\n",
            "\n",
            " [[0.000e+00 0.000e+00 0.000e+00 0.000e+00 0.000e+00 0.000e+00 0.000e+00\n",
            "   0.000e+00]\n",
            "  [0.000e+00 0.000e+00 0.000e+00 0.000e+00 0.000e+00 0.000e+00 0.000e+00\n",
            "   0.000e+00]\n",
            "  [0.000e+00 0.000e+00 0.000e+00 0.000e+00 0.000e+00 0.000e+00 0.000e+00\n",
            "   0.000e+00]\n",
            "  [0.000e+00 0.000e+00 0.000e+00 0.000e+00 0.000e+00 0.000e+00 0.000e+00\n",
            "   0.000e+00]\n",
            "  [0.000e+00 0.000e+00 0.000e+00 0.000e+00 1.000e+00 0.000e+00 0.000e+00\n",
            "   0.000e+00]\n",
            "  [0.000e+00 0.000e+00 0.000e+00 0.000e+00 0.000e+00 0.000e+00 0.000e+00\n",
            "   0.000e+00]\n",
            "  [0.000e+00 0.000e+00 0.000e+00 0.000e+00 0.000e+00 0.000e+00 0.000e+00\n",
            "   0.000e+00]\n",
            "  [0.000e+00 0.000e+00 0.000e+00 0.000e+00 0.000e+00 0.000e+00 0.000e+00\n",
            "   0.000e+00]]\n",
            "\n",
            " [[0.000e+00 0.000e+00 0.000e+00 0.000e+00 0.000e+00 0.000e+00 0.000e+00\n",
            "   0.000e+00]\n",
            "  [0.000e+00 0.000e+00 0.000e+00 0.000e+00 0.000e+00 0.000e+00 0.000e+00\n",
            "   0.000e+00]\n",
            "  [0.000e+00 0.000e+00 0.000e+00 0.000e+00 0.000e+00 0.000e+00 0.000e+00\n",
            "   0.000e+00]\n",
            "  [0.000e+00 0.000e+00 0.000e+00 0.000e+00 0.000e+00 0.000e+00 0.000e+00\n",
            "   0.000e+00]\n",
            "  [0.000e+00 0.000e+00 0.000e+00 0.000e+00 0.000e+00 0.000e+00 0.000e+00\n",
            "   0.000e+00]\n",
            "  [0.000e+00 0.000e+00 0.000e+00 0.000e+00 0.000e+00 0.000e+00 0.000e+00\n",
            "   0.000e+00]\n",
            "  [0.000e+00 0.000e+00 0.000e+00 0.000e+00 0.000e+00 0.000e+00 0.000e+00\n",
            "   0.000e+00]\n",
            "  [0.000e+00 0.000e+00 0.000e+00 0.000e+00 0.000e+00 0.000e+00 0.000e+00\n",
            "   0.000e+00]]\n",
            "\n",
            " [[0.000e+00 0.000e+00 0.000e+00 0.000e+00 0.000e+00 0.000e+00 4.800e-03\n",
            "   8.640e-04]\n",
            "  [0.000e+00 0.000e+00 0.000e+00 0.000e+00 0.000e+00 0.000e+00 0.000e+00\n",
            "   0.000e+00]\n",
            "  [0.000e+00 0.000e+00 0.000e+00 0.000e+00 0.000e+00 0.000e+00 0.000e+00\n",
            "   0.000e+00]\n",
            "  [0.000e+00 0.000e+00 0.000e+00 0.000e+00 0.000e+00 0.000e+00 0.000e+00\n",
            "   0.000e+00]\n",
            "  [0.000e+00 0.000e+00 0.000e+00 0.000e+00 0.000e+00 0.000e+00 0.000e+00\n",
            "   0.000e+00]\n",
            "  [0.000e+00 0.000e+00 0.000e+00 0.000e+00 0.000e+00 0.000e+00 0.000e+00\n",
            "   0.000e+00]\n",
            "  [0.000e+00 0.000e+00 0.000e+00 0.000e+00 0.000e+00 0.000e+00 0.000e+00\n",
            "   0.000e+00]\n",
            "  [0.000e+00 0.000e+00 0.000e+00 0.000e+00 0.000e+00 0.000e+00 0.000e+00\n",
            "   0.000e+00]]\n",
            "\n",
            " [[0.000e+00 0.000e+00 0.000e+00 0.000e+00 0.000e+00 0.000e+00 0.000e+00\n",
            "   0.000e+00]\n",
            "  [0.000e+00 1.000e+00 0.000e+00 0.000e+00 0.000e+00 0.000e+00 0.000e+00\n",
            "   0.000e+00]\n",
            "  [0.000e+00 0.000e+00 0.000e+00 0.000e+00 0.000e+00 0.000e+00 0.000e+00\n",
            "   0.000e+00]\n",
            "  [0.000e+00 0.000e+00 0.000e+00 0.000e+00 0.000e+00 0.000e+00 0.000e+00\n",
            "   0.000e+00]\n",
            "  [0.000e+00 0.000e+00 0.000e+00 0.000e+00 0.000e+00 0.000e+00 0.000e+00\n",
            "   0.000e+00]\n",
            "  [0.000e+00 0.000e+00 0.000e+00 0.000e+00 0.000e+00 0.000e+00 0.000e+00\n",
            "   0.000e+00]\n",
            "  [0.000e+00 0.000e+00 0.000e+00 0.000e+00 0.000e+00 0.000e+00 0.000e+00\n",
            "   0.000e+00]\n",
            "  [0.000e+00 0.000e+00 0.000e+00 0.000e+00 0.000e+00 0.000e+00 0.000e+00\n",
            "   0.000e+00]]\n",
            "\n",
            " [[0.000e+00 0.000e+00 0.000e+00 0.000e+00 0.000e+00 0.000e+00 0.000e+00\n",
            "   0.000e+00]\n",
            "  [0.000e+00 0.000e+00 0.000e+00 0.000e+00 0.000e+00 2.400e-02 4.320e-03\n",
            "   7.776e-04]\n",
            "  [0.000e+00 0.000e+00 0.000e+00 0.000e+00 0.000e+00 0.000e+00 0.000e+00\n",
            "   0.000e+00]\n",
            "  [0.000e+00 0.000e+00 0.000e+00 0.000e+00 0.000e+00 0.000e+00 0.000e+00\n",
            "   0.000e+00]\n",
            "  [0.000e+00 0.000e+00 0.000e+00 0.000e+00 0.000e+00 0.000e+00 0.000e+00\n",
            "   0.000e+00]\n",
            "  [0.000e+00 0.000e+00 0.000e+00 0.000e+00 0.000e+00 0.000e+00 0.000e+00\n",
            "   0.000e+00]\n",
            "  [0.000e+00 0.000e+00 0.000e+00 0.000e+00 0.000e+00 0.000e+00 0.000e+00\n",
            "   0.000e+00]\n",
            "  [0.000e+00 0.000e+00 0.000e+00 0.000e+00 0.000e+00 0.000e+00 0.000e+00\n",
            "   0.000e+00]]]\n",
            "[[[0 0 0 0 0 0 0 0]\n",
            "  [0 0 0 0 0 0 0 0]\n",
            "  [0 0 Nonterminal('Det') 0 0 0 0 0]\n",
            "  [0 0 0 0 0 0 0 0]\n",
            "  [0 0 0 0 0 0 0 0]\n",
            "  [0 0 0 0 0 Nonterminal('Det') 0 0]\n",
            "  [0 0 0 0 0 0 0 0]\n",
            "  [0 0 0 0 0 0 0 0]]\n",
            "\n",
            " [[0 0 0 0 0 0 0 0]\n",
            "  [0 0 0 0 0 0 0 0]\n",
            "  [0 0 0 0 0 0 0 0]\n",
            "  [0 0 0 Nonterminal('N') 0 0 0 0]\n",
            "  [0 0 0 0 0 0 0 0]\n",
            "  [0 0 0 0 0 0 0 0]\n",
            "  [0 0 0 0 0 0 Nonterminal('N') 0]\n",
            "  [0 0 0 0 0 0 0 0]]\n",
            "\n",
            " [[Nonterminal('NP') 0 0 0 0 0 0 0]\n",
            "  [0 0 0 0 0 0 0 0]\n",
            "  [0 0 0 0 Nonterminal('NP') Nonterminal('NP') Nonterminal('NP')\n",
            "   Nonterminal('NP')]\n",
            "  [0 0 0 0 0 0 0 0]\n",
            "  [0 0 0 0 0 0 0 0]\n",
            "  [0 0 0 0 0 0 0 Nonterminal('NP')]\n",
            "  [0 0 0 0 0 0 0 0]\n",
            "  [0 0 0 0 0 0 0 0]]\n",
            "\n",
            " [[0 0 0 0 0 0 0 0]\n",
            "  [0 0 0 0 0 0 0 0]\n",
            "  [0 0 0 0 0 0 0 0]\n",
            "  [0 0 0 0 0 0 0 0]\n",
            "  [0 0 0 0 Nonterminal('P') 0 0 0]\n",
            "  [0 0 0 0 0 0 0 0]\n",
            "  [0 0 0 0 0 0 0 0]\n",
            "  [0 0 0 0 0 0 0 0]]\n",
            "\n",
            " [[0 0 0 0 0 0 0 0]\n",
            "  [0 0 0 0 0 0 0 0]\n",
            "  [0 0 0 0 0 0 0 0]\n",
            "  [0 0 0 0 0 0 0 0]\n",
            "  [0 0 0 0 0 0 0 0]\n",
            "  [0 0 0 0 0 0 0 0]\n",
            "  [0 0 0 0 0 0 0 0]\n",
            "  [0 0 0 0 0 0 0 0]]\n",
            "\n",
            " [[0 0 0 0 0 0 Nonterminal('S') Nonterminal('S')]\n",
            "  [0 0 0 0 0 0 0 0]\n",
            "  [0 0 0 0 0 0 0 0]\n",
            "  [0 0 0 0 0 0 0 0]\n",
            "  [0 0 0 0 0 0 0 0]\n",
            "  [0 0 0 0 0 0 0 0]\n",
            "  [0 0 0 0 0 0 0 0]\n",
            "  [0 0 0 0 0 0 0 0]]\n",
            "\n",
            " [[0 0 0 0 0 0 0 0]\n",
            "  [0 Nonterminal('V') 0 0 0 0 0 0]\n",
            "  [0 0 0 0 0 0 0 0]\n",
            "  [0 0 0 0 0 0 0 0]\n",
            "  [0 0 0 0 0 0 0 0]\n",
            "  [0 0 0 0 0 0 0 0]\n",
            "  [0 0 0 0 0 0 0 0]\n",
            "  [0 0 0 0 0 0 0 0]]\n",
            "\n",
            " [[0 0 0 0 0 0 0 0]\n",
            "  [0 0 0 0 0 Nonterminal('VP') Nonterminal('VP') Nonterminal('VP')]\n",
            "  [0 0 0 0 0 0 0 0]\n",
            "  [0 0 0 0 0 0 0 0]\n",
            "  [0 0 0 0 0 0 0 0]\n",
            "  [0 0 0 0 0 0 0 0]\n",
            "  [0 0 0 0 0 0 0 0]\n",
            "  [0 0 0 0 0 0 0 0]]]\n"
          ]
        }
      ],
      "source": [
        "# Run CKY\n",
        "score, back = cky(sentence, grammar, n2i)\n",
        "\n",
        "print(np.array(score))\n",
        "print(np.array(back))\n",
        "\n"
      ]
    },
    {
      "cell_type": "markdown",
      "metadata": {
        "id": "Y-RR3hKxCGMA"
      },
      "source": [
        "### Check your CKY\n",
        "\n",
        "Use the code in the following two cell to check your `cky` implementation.\n",
        "\n",
        "Take the Nonterminal `S` to inspect your filled in score and backpointer charts. **Leave the code in this cell unchanged.** We will use this to evaluate the corectness of your cky function."
      ]
    },
    {
      "cell_type": "code",
      "execution_count": 46,
      "metadata": {
        "colab": {
          "base_uri": "https://localhost:8080/"
        },
        "id": "gBvi4nElCGMB",
        "outputId": "025ee6e2-d268-4473-8962-1788093e4a80"
      },
      "outputs": [
        {
          "name": "stdout",
          "output_type": "stream",
          "text": [
            "The whole slice for nonterminal S:\n",
            "[[0.       0.       0.       0.       0.       0.       0.0048   0.000864]\n",
            " [0.       0.       0.       0.       0.       0.       0.       0.      ]\n",
            " [0.       0.       0.       0.       0.       0.       0.       0.      ]\n",
            " [0.       0.       0.       0.       0.       0.       0.       0.      ]\n",
            " [0.       0.       0.       0.       0.       0.       0.       0.      ]\n",
            " [0.       0.       0.       0.       0.       0.       0.       0.      ]\n",
            " [0.       0.       0.       0.       0.       0.       0.       0.      ]\n",
            " [0.       0.       0.       0.       0.       0.       0.       0.      ]] \n",
            "\n",
            "The score in cell (S, 0, num_words), which is the probability of the best parse:\n",
            "0.0008640000000000001 \n",
            "\n",
            "The backpointer in cell (S, 0, num_words):\n",
            "[S] \n",
            "\n"
          ]
        }
      ],
      "source": [
        "# TEST EX1\n",
        "\n",
        "S = Nonterminal('S')\n",
        "\n",
        "print('The whole slice for nonterminal S:')\n",
        "print(score[n2i[S]], \"\\n\")\n",
        "\n",
        "print('The score in cell (S, 0, num_words), which is the probability of the best parse:')\n",
        "print(score[n2i[S]][0][num_words], \"\\n\")\n",
        "\n",
        "\n",
        "print('The backpointer in cell (S, 0, num_words):')\n",
        "print(back[n2i[S]][0][num_words], \"\\n\")"
      ]
    },
    {
      "attachments": {},
      "cell_type": "markdown",
      "metadata": {
        "id": "bQXFftl-CGMH"
      },
      "source": [
        "### Alternative Groucho-grammar"
      ]
    },
    {
      "cell_type": "markdown",
      "metadata": {
        "id": "WQvNMXcpCGMI"
      },
      "source": [
        "### The man with the telescope\n",
        "\n",
        "Another ambiguous sentence:\n",
        "\n",
        "> I saw the man on the hill with the telescope.\n",
        "\n",
        "A grammar for this sentence is specified in the file `telescope-grammar.txt`."
      ]
    },
    {
      "cell_type": "code",
      "execution_count": 62,
      "metadata": {
        "colab": {
          "base_uri": "https://localhost:8080/"
        },
        "id": "saH1dFIkCGMI",
        "outputId": "aa908109-9c35-4630-8e7e-c1b0c7df64c0"
      },
      "outputs": [
        {
          "name": "stdout",
          "output_type": "stream",
          "text": [
            "The grammar:\n",
            " [S] -> [NP] [VP] (1.0)\n",
            "[VP] -> [V] [NP] (0.6)\n",
            "[VP] -> [VP] [PP] (0.4)\n",
            "[NP] -> [NP] [PP] (0.3)\n",
            "[NP] -> [Det] [N] (0.3)\n",
            "[NP] -> [Det] [NP] (0.2)\n",
            "[NP] -> 'I' (0.2)\n",
            "[PP] -> [P] [NP] (0.8)\n",
            "[PP] -> [PP] [PP] (0.2)\n",
            "[V] -> 'saw' (1.0)\n",
            "[Det] -> 'the' (1.0)\n",
            "[N] -> 'man' (0.4)\n",
            "[N] -> 'hill' (0.3)\n",
            "[N] -> 'telescope' (0.3)\n",
            "[P] -> 'on' (0.5)\n",
            "[P] -> 'with' (0.5)\n",
            "I\n",
            "B [0 0 Nonterminal('NP') 0 0 0 0 0]\n",
            "C [0 0 0 0 0 0 0 0]\n",
            "B_score 0.2\n",
            "C_score 0.0\n",
            "saw\n",
            "B [0 0 Nonterminal('NP') 0 0 0 0 0]\n",
            "C [0 0 0 0 0 0 Nonterminal('V') 0]\n",
            "B_score 0.2\n",
            "C_score 1.0\n",
            "------------------------\n",
            "saw\n",
            "B [0 0 0 0 0 0 Nonterminal('V') 0]\n",
            "C [0 0 0 0 0 0 0 0]\n",
            "B_score 1.0\n",
            "C_score 0.0\n",
            "the\n",
            "B [0 0 0 0 0 0 Nonterminal('V') 0]\n",
            "C [Nonterminal('Det') 0 0 0 0 0 0 0]\n",
            "B_score 1.0\n",
            "C_score 1.0\n",
            "------------------------\n",
            "the\n",
            "B [Nonterminal('Det') 0 0 0 0 0 0 0]\n",
            "C [0 0 0 0 0 0 0 0]\n",
            "B_score 1.0\n",
            "C_score 0.0\n",
            "man\n",
            "B [Nonterminal('Det') 0 0 0 0 0 0 0]\n",
            "C [0 Nonterminal('N') 0 0 0 0 0 0]\n",
            "B_score 1.0\n",
            "C_score 0.4\n",
            "[NP] -> [Det] [N] (0.3)\n",
            "CALCULATION: 1.0 * 0.4 * 0.3 = 0.12\n",
            "------------------------\n",
            "man\n",
            "B [0 Nonterminal('N') 0 0 0 0 0 0]\n",
            "C [0 0 0 0 0 0 0 0]\n",
            "B_score 0.4\n",
            "C_score 0.0\n",
            "on\n",
            "B [0 Nonterminal('N') 0 0 0 0 0 0]\n",
            "C [0 0 0 Nonterminal('P') 0 0 0 0]\n",
            "B_score 0.4\n",
            "C_score 0.5\n",
            "------------------------\n",
            "on\n",
            "B [0 0 0 Nonterminal('P') 0 0 0 0]\n",
            "C [0 0 0 0 0 0 0 0]\n",
            "B_score 0.5\n",
            "C_score 0.0\n",
            "the\n",
            "B [0 0 0 Nonterminal('P') 0 0 0 0]\n",
            "C [Nonterminal('Det') 0 0 0 0 0 0 0]\n",
            "B_score 0.5\n",
            "C_score 1.0\n",
            "------------------------\n",
            "the\n",
            "B [Nonterminal('Det') 0 0 0 0 0 0 0]\n",
            "C [0 0 0 0 0 0 0 0]\n",
            "B_score 1.0\n",
            "C_score 0.0\n",
            "hill\n",
            "B [Nonterminal('Det') 0 0 0 0 0 0 0]\n",
            "C [0 Nonterminal('N') 0 0 0 0 0 0]\n",
            "B_score 1.0\n",
            "C_score 0.3\n",
            "[NP] -> [Det] [N] (0.3)\n",
            "CALCULATION: 1.0 * 0.3 * 0.3 = 0.09\n",
            "------------------------\n",
            "hill\n",
            "B [0 Nonterminal('N') 0 0 0 0 0 0]\n",
            "C [0 0 0 0 0 0 0 0]\n",
            "B_score 0.3\n",
            "C_score 0.0\n",
            "with\n",
            "B [0 Nonterminal('N') 0 0 0 0 0 0]\n",
            "C [0 0 0 Nonterminal('P') 0 0 0 0]\n",
            "B_score 0.3\n",
            "C_score 0.5\n",
            "------------------------\n",
            "with\n",
            "B [0 0 0 Nonterminal('P') 0 0 0 0]\n",
            "C [0 0 0 0 0 0 0 0]\n",
            "B_score 0.5\n",
            "C_score 0.0\n",
            "the\n",
            "B [0 0 0 Nonterminal('P') 0 0 0 0]\n",
            "C [Nonterminal('Det') 0 0 0 0 0 0 0]\n",
            "B_score 0.5\n",
            "C_score 1.0\n",
            "------------------------\n",
            "the\n",
            "B [Nonterminal('Det') 0 0 0 0 0 0 0]\n",
            "C [0 0 0 0 0 0 0 0]\n",
            "B_score 1.0\n",
            "C_score 0.0\n",
            "telescope\n",
            "B [Nonterminal('Det') 0 0 0 0 0 0 0]\n",
            "C [0 Nonterminal('N') 0 0 0 0 0 0]\n",
            "B_score 1.0\n",
            "C_score 0.3\n",
            "[NP] -> [Det] [N] (0.3)\n",
            "CALCULATION: 1.0 * 0.3 * 0.3 = 0.09\n",
            "------------------------\n",
            "------------------------\n",
            "I\n",
            "B [0 0 Nonterminal('NP') 0 0 0 0 0]\n",
            "C [0 0 0 0 0 0 0 0]\n",
            "B_score 0.2\n",
            "C_score 0.0\n",
            "saw\n",
            "B [0 0 Nonterminal('NP') 0 0 0 0 0]\n",
            "C [0 0 0 0 0 0 0 0]\n",
            "B_score 0.2\n",
            "C_score 0.0\n",
            "the\n",
            "B [0 0 Nonterminal('NP') 0 0 0 0 0]\n",
            "C [Nonterminal('Det') 0 0 0 0 0 0 0]\n",
            "B_score 0.2\n",
            "C_score 1.0\n",
            "------------------------\n",
            "saw\n",
            "B [0 0 0 0 0 0 Nonterminal('V') 0]\n",
            "C [0 0 0 0 0 0 0 0]\n",
            "B_score 1.0\n",
            "C_score 0.0\n",
            "the\n",
            "B [0 0 0 0 0 0 Nonterminal('V') 0]\n",
            "C [0 0 0 0 0 0 0 0]\n",
            "B_score 1.0\n",
            "C_score 0.0\n",
            "man\n",
            "B [0 0 0 0 0 0 Nonterminal('V') 0]\n",
            "C [0 Nonterminal('N') 0 0 0 0 0 0]\n",
            "B_score 1.0\n",
            "C_score 0.4\n",
            "------------------------\n",
            "the\n",
            "B [Nonterminal('Det') 0 0 0 0 0 0 0]\n",
            "C [0 0 Nonterminal('NP') 0 0 0 0 0]\n",
            "B_score 1.0\n",
            "C_score 0.12\n",
            "[NP] -> [Det] [NP] (0.2)\n",
            "CALCULATION: 1.0 * 0.12 * 0.2 = 0.024\n",
            "man\n",
            "B [Nonterminal('Det') 0 0 0 0 0 0 0]\n",
            "C [0 0 0 0 0 0 0 0]\n",
            "B_score 1.0\n",
            "C_score 0.0\n",
            "on\n",
            "B [Nonterminal('Det') 0 0 0 0 0 0 0]\n",
            "C [0 0 0 Nonterminal('P') 0 0 0 0]\n",
            "B_score 1.0\n",
            "C_score 0.5\n",
            "------------------------\n",
            "man\n",
            "B [0 Nonterminal('N') 0 0 0 0 0 0]\n",
            "C [0 0 0 0 0 0 0 0]\n",
            "B_score 0.4\n",
            "C_score 0.0\n",
            "on\n",
            "B [0 Nonterminal('N') 0 0 0 0 0 0]\n",
            "C [0 0 0 0 0 0 0 0]\n",
            "B_score 0.4\n",
            "C_score 0.0\n",
            "the\n",
            "B [0 Nonterminal('N') 0 0 0 0 0 0]\n",
            "C [Nonterminal('Det') 0 0 0 0 0 0 0]\n",
            "B_score 0.4\n",
            "C_score 1.0\n",
            "------------------------\n",
            "on\n",
            "B [0 0 0 Nonterminal('P') 0 0 0 0]\n",
            "C [0 0 0 0 0 0 0 0]\n",
            "B_score 0.5\n",
            "C_score 0.0\n",
            "the\n",
            "B [0 0 0 Nonterminal('P') 0 0 0 0]\n",
            "C [0 0 0 0 0 0 0 0]\n",
            "B_score 0.5\n",
            "C_score 0.0\n",
            "hill\n",
            "B [0 0 0 Nonterminal('P') 0 0 0 0]\n",
            "C [0 Nonterminal('N') 0 0 0 0 0 0]\n",
            "B_score 0.5\n",
            "C_score 0.3\n",
            "------------------------\n",
            "the\n",
            "B [Nonterminal('Det') 0 0 0 0 0 0 0]\n",
            "C [0 0 Nonterminal('NP') 0 0 0 0 0]\n",
            "B_score 1.0\n",
            "C_score 0.09\n",
            "[NP] -> [Det] [NP] (0.2)\n",
            "CALCULATION: 1.0 * 0.09 * 0.2 = 0.018\n",
            "hill\n",
            "B [Nonterminal('Det') 0 0 0 0 0 0 0]\n",
            "C [0 0 0 0 0 0 0 0]\n",
            "B_score 1.0\n",
            "C_score 0.0\n",
            "with\n",
            "B [Nonterminal('Det') 0 0 0 0 0 0 0]\n",
            "C [0 0 0 Nonterminal('P') 0 0 0 0]\n",
            "B_score 1.0\n",
            "C_score 0.5\n",
            "------------------------\n",
            "hill\n",
            "B [0 Nonterminal('N') 0 0 0 0 0 0]\n",
            "C [0 0 0 0 0 0 0 0]\n",
            "B_score 0.3\n",
            "C_score 0.0\n",
            "with\n",
            "B [0 Nonterminal('N') 0 0 0 0 0 0]\n",
            "C [0 0 0 0 0 0 0 0]\n",
            "B_score 0.3\n",
            "C_score 0.0\n",
            "the\n",
            "B [0 Nonterminal('N') 0 0 0 0 0 0]\n",
            "C [Nonterminal('Det') 0 0 0 0 0 0 0]\n",
            "B_score 0.3\n",
            "C_score 1.0\n",
            "------------------------\n",
            "with\n",
            "B [0 0 0 Nonterminal('P') 0 0 0 0]\n",
            "C [0 0 0 0 0 0 0 0]\n",
            "B_score 0.5\n",
            "C_score 0.0\n",
            "the\n",
            "B [0 0 0 Nonterminal('P') 0 0 0 0]\n",
            "C [0 0 0 0 0 0 0 0]\n",
            "B_score 0.5\n",
            "C_score 0.0\n",
            "telescope\n",
            "B [0 0 0 Nonterminal('P') 0 0 0 0]\n",
            "C [0 Nonterminal('N') 0 0 0 0 0 0]\n",
            "B_score 0.5\n",
            "C_score 0.3\n",
            "------------------------\n",
            "------------------------\n",
            "I\n",
            "B [0 0 Nonterminal('NP') 0 0 0 0 0]\n",
            "C [0 0 0 0 0 0 0 0]\n",
            "B_score 0.2\n",
            "C_score 0.0\n",
            "saw\n",
            "B [0 0 Nonterminal('NP') 0 0 0 0 0]\n",
            "C [0 0 0 0 0 0 0 0]\n",
            "B_score 0.2\n",
            "C_score 0.0\n",
            "the\n",
            "B [0 0 Nonterminal('NP') 0 0 0 0 0]\n",
            "C [0 0 0 0 0 0 0 0]\n",
            "B_score 0.2\n",
            "C_score 0.0\n",
            "man\n",
            "B [0 0 Nonterminal('NP') 0 0 0 0 0]\n",
            "C [0 Nonterminal('N') 0 0 0 0 0 0]\n",
            "B_score 0.2\n",
            "C_score 0.4\n",
            "------------------------\n",
            "saw\n",
            "B [0 0 0 0 0 0 Nonterminal('V') 0]\n",
            "C [0 0 0 0 0 0 0 0]\n",
            "B_score 1.0\n",
            "C_score 0.0\n",
            "the\n",
            "B [0 0 0 0 0 0 Nonterminal('V') 0]\n",
            "C [0 0 Nonterminal('NP') 0 0 0 0 0]\n",
            "B_score 1.0\n",
            "C_score 0.12\n",
            "[VP] -> [V] [NP] (0.6)\n",
            "CALCULATION: 1.0 * 0.12 * 0.6 = 0.072\n",
            "man\n",
            "B [0 0 0 0 0 0 Nonterminal('V') 0]\n",
            "C [0 0 0 0 0 0 0 0]\n",
            "B_score 1.0\n",
            "C_score 0.0\n",
            "on\n",
            "B [0 0 0 0 0 0 Nonterminal('V') 0]\n",
            "C [0 0 0 Nonterminal('P') 0 0 0 0]\n",
            "B_score 1.0\n",
            "C_score 0.5\n",
            "------------------------\n",
            "the\n",
            "B [Nonterminal('Det') 0 0 0 0 0 0 0]\n",
            "C [0 0 Nonterminal('NP') 0 0 0 0 0]\n",
            "B_score 1.0\n",
            "C_score 0.024\n",
            "[NP] -> [Det] [NP] (0.2)\n",
            "CALCULATION: 1.0 * 0.024 * 0.2 = 0.0048000000000000004\n",
            "man\n",
            "B [Nonterminal('Det') 0 0 0 0 0 0 0]\n",
            "C [0 0 0 0 0 0 0 0]\n",
            "B_score 1.0\n",
            "C_score 0.0\n",
            "on\n",
            "B [Nonterminal('Det') 0 0 0 0 0 0 0]\n",
            "C [0 0 0 0 0 0 0 0]\n",
            "B_score 1.0\n",
            "C_score 0.0\n",
            "the\n",
            "B [Nonterminal('Det') 0 0 0 0 0 0 0]\n",
            "C [Nonterminal('Det') 0 0 0 0 0 0 0]\n",
            "B_score 1.0\n",
            "C_score 1.0\n",
            "------------------------\n",
            "man\n",
            "B [0 Nonterminal('N') 0 0 0 0 0 0]\n",
            "C [0 0 0 0 0 0 0 0]\n",
            "B_score 0.4\n",
            "C_score 0.0\n",
            "on\n",
            "B [0 Nonterminal('N') 0 0 0 0 0 0]\n",
            "C [0 0 0 0 0 0 0 0]\n",
            "B_score 0.4\n",
            "C_score 0.0\n",
            "the\n",
            "B [0 Nonterminal('N') 0 0 0 0 0 0]\n",
            "C [0 0 0 0 0 0 0 0]\n",
            "B_score 0.4\n",
            "C_score 0.0\n",
            "hill\n",
            "B [0 Nonterminal('N') 0 0 0 0 0 0]\n",
            "C [0 Nonterminal('N') 0 0 0 0 0 0]\n",
            "B_score 0.4\n",
            "C_score 0.3\n",
            "------------------------\n",
            "on\n",
            "B [0 0 0 Nonterminal('P') 0 0 0 0]\n",
            "C [0 0 0 0 0 0 0 0]\n",
            "B_score 0.5\n",
            "C_score 0.0\n",
            "the\n",
            "B [0 0 0 Nonterminal('P') 0 0 0 0]\n",
            "C [0 0 Nonterminal('NP') 0 0 0 0 0]\n",
            "B_score 0.5\n",
            "C_score 0.09\n",
            "[PP] -> [P] [NP] (0.8)\n",
            "CALCULATION: 0.5 * 0.09 * 0.8 = 0.036\n",
            "hill\n",
            "B [0 0 0 Nonterminal('P') 0 0 0 0]\n",
            "C [0 0 0 0 0 0 0 0]\n",
            "B_score 0.5\n",
            "C_score 0.0\n",
            "with\n",
            "B [0 0 0 Nonterminal('P') 0 0 0 0]\n",
            "C [0 0 0 Nonterminal('P') 0 0 0 0]\n",
            "B_score 0.5\n",
            "C_score 0.5\n",
            "------------------------\n",
            "the\n",
            "B [Nonterminal('Det') 0 0 0 0 0 0 0]\n",
            "C [0 0 Nonterminal('NP') 0 0 0 0 0]\n",
            "B_score 1.0\n",
            "C_score 0.018\n",
            "[NP] -> [Det] [NP] (0.2)\n",
            "CALCULATION: 1.0 * 0.018 * 0.2 = 0.0036\n",
            "hill\n",
            "B [Nonterminal('Det') 0 0 0 0 0 0 0]\n",
            "C [0 0 0 0 0 0 0 0]\n",
            "B_score 1.0\n",
            "C_score 0.0\n",
            "with\n",
            "B [Nonterminal('Det') 0 0 0 0 0 0 0]\n",
            "C [0 0 0 0 0 0 0 0]\n",
            "B_score 1.0\n",
            "C_score 0.0\n",
            "the\n",
            "B [Nonterminal('Det') 0 0 0 0 0 0 0]\n",
            "C [Nonterminal('Det') 0 0 0 0 0 0 0]\n",
            "B_score 1.0\n",
            "C_score 1.0\n",
            "------------------------\n",
            "hill\n",
            "B [0 Nonterminal('N') 0 0 0 0 0 0]\n",
            "C [0 0 0 0 0 0 0 0]\n",
            "B_score 0.3\n",
            "C_score 0.0\n",
            "with\n",
            "B [0 Nonterminal('N') 0 0 0 0 0 0]\n",
            "C [0 0 0 0 0 0 0 0]\n",
            "B_score 0.3\n",
            "C_score 0.0\n",
            "the\n",
            "B [0 Nonterminal('N') 0 0 0 0 0 0]\n",
            "C [0 0 0 0 0 0 0 0]\n",
            "B_score 0.3\n",
            "C_score 0.0\n",
            "telescope\n",
            "B [0 Nonterminal('N') 0 0 0 0 0 0]\n",
            "C [0 Nonterminal('N') 0 0 0 0 0 0]\n",
            "B_score 0.3\n",
            "C_score 0.3\n",
            "------------------------\n",
            "------------------------\n",
            "I\n",
            "B [0 0 Nonterminal('NP') 0 0 0 0 0]\n",
            "C [0 0 0 0 0 0 0 0]\n",
            "B_score 0.2\n",
            "C_score 0.0\n",
            "saw\n",
            "B [0 0 Nonterminal('NP') 0 0 0 0 0]\n",
            "C [0 0 0 0 0 0 0 0]\n",
            "B_score 0.2\n",
            "C_score 0.0\n",
            "the\n",
            "B [0 0 Nonterminal('NP') 0 0 0 0 0]\n",
            "C [0 0 Nonterminal('NP') 0 0 0 0 0]\n",
            "B_score 0.2\n",
            "C_score 0.12\n",
            "man\n",
            "B [0 0 Nonterminal('NP') 0 0 0 0 0]\n",
            "C [0 0 0 0 0 0 0 0]\n",
            "B_score 0.2\n",
            "C_score 0.0\n",
            "on\n",
            "B [0 0 Nonterminal('NP') 0 0 0 0 0]\n",
            "C [0 0 0 Nonterminal('P') 0 0 0 0]\n",
            "B_score 0.2\n",
            "C_score 0.5\n",
            "------------------------\n",
            "saw\n",
            "B [0 0 0 0 0 0 Nonterminal('V') 0]\n",
            "C [0 0 0 0 0 0 0 Nonterminal('VP')]\n",
            "B_score 1.0\n",
            "C_score 0.072\n",
            "the\n",
            "B [0 0 0 0 0 0 Nonterminal('V') 0]\n",
            "C [0 0 Nonterminal('NP') 0 0 0 0 0]\n",
            "B_score 1.0\n",
            "C_score 0.024\n",
            "[VP] -> [V] [NP] (0.6)\n",
            "CALCULATION: 1.0 * 0.024 * 0.6 = 0.0144\n",
            "man\n",
            "B [0 0 0 0 0 0 Nonterminal('V') 0]\n",
            "C [0 0 0 0 0 0 0 0]\n",
            "B_score 1.0\n",
            "C_score 0.0\n",
            "on\n",
            "B [0 0 0 0 0 0 Nonterminal('V') 0]\n",
            "C [0 0 0 0 0 0 0 0]\n",
            "B_score 1.0\n",
            "C_score 0.0\n",
            "the\n",
            "B [0 0 0 0 0 0 Nonterminal('V') 0]\n",
            "C [Nonterminal('Det') 0 0 0 0 0 0 0]\n",
            "B_score 1.0\n",
            "C_score 1.0\n",
            "------------------------\n",
            "the\n",
            "B [Nonterminal('Det') 0 0 0 0 0 0 0]\n",
            "C [0 0 Nonterminal('NP') 0 0 0 0 0]\n",
            "B_score 1.0\n",
            "C_score 0.0048000000000000004\n",
            "[NP] -> [Det] [NP] (0.2)\n",
            "CALCULATION: 1.0 * 0.0048000000000000004 * 0.2 = 0.0009600000000000001\n",
            "man\n",
            "B [Nonterminal('Det') 0 0 0 0 0 0 0]\n",
            "C [0 0 0 0 0 0 0 0]\n",
            "B_score 1.0\n",
            "C_score 0.0\n",
            "on\n",
            "B [Nonterminal('Det') 0 0 0 0 0 0 0]\n",
            "C [0 0 0 0 0 0 0 0]\n",
            "B_score 1.0\n",
            "C_score 0.0\n",
            "the\n",
            "B [Nonterminal('Det') 0 0 0 0 0 0 0]\n",
            "C [0 0 0 0 0 0 0 0]\n",
            "B_score 1.0\n",
            "C_score 0.0\n",
            "hill\n",
            "B [Nonterminal('Det') 0 0 0 0 0 0 0]\n",
            "C [0 Nonterminal('N') 0 0 0 0 0 0]\n",
            "B_score 1.0\n",
            "C_score 0.3\n",
            "[NP] -> [Det] [N] (0.3)\n",
            "CALCULATION: 1.0 * 0.3 * 0.3 = 0.09\n",
            "------------------------\n",
            "man\n",
            "B [0 Nonterminal('N') 0 0 0 0 0 0]\n",
            "C [0 0 0 0 0 0 0 0]\n",
            "B_score 0.4\n",
            "C_score 0.0\n",
            "on\n",
            "B [0 Nonterminal('N') 0 0 0 0 0 0]\n",
            "C [0 0 0 0 0 0 0 0]\n",
            "B_score 0.4\n",
            "C_score 0.0\n",
            "the\n",
            "B [0 Nonterminal('N') 0 0 0 0 0 0]\n",
            "C [0 0 Nonterminal('NP') 0 0 0 0 0]\n",
            "B_score 0.4\n",
            "C_score 0.09\n",
            "hill\n",
            "B [0 Nonterminal('N') 0 0 0 0 0 0]\n",
            "C [0 0 0 0 0 0 0 0]\n",
            "B_score 0.4\n",
            "C_score 0.0\n",
            "with\n",
            "B [0 Nonterminal('N') 0 0 0 0 0 0]\n",
            "C [0 0 0 Nonterminal('P') 0 0 0 0]\n",
            "B_score 0.4\n",
            "C_score 0.5\n",
            "------------------------\n",
            "on\n",
            "B [0 0 0 Nonterminal('P') 0 0 0 0]\n",
            "C [0 0 0 0 Nonterminal('PP') 0 0 0]\n",
            "B_score 0.5\n",
            "C_score 0.036\n",
            "the\n",
            "B [0 0 0 Nonterminal('P') 0 0 0 0]\n",
            "C [0 0 Nonterminal('NP') 0 0 0 0 0]\n",
            "B_score 0.5\n",
            "C_score 0.018\n",
            "[PP] -> [P] [NP] (0.8)\n",
            "CALCULATION: 0.5 * 0.018 * 0.8 = 0.0072\n",
            "hill\n",
            "B [0 0 0 Nonterminal('P') 0 0 0 0]\n",
            "C [0 0 0 0 0 0 0 0]\n",
            "B_score 0.5\n",
            "C_score 0.0\n",
            "with\n",
            "B [0 0 0 Nonterminal('P') 0 0 0 0]\n",
            "C [0 0 0 0 0 0 0 0]\n",
            "B_score 0.5\n",
            "C_score 0.0\n",
            "the\n",
            "B [0 0 0 Nonterminal('P') 0 0 0 0]\n",
            "C [Nonterminal('Det') 0 0 0 0 0 0 0]\n",
            "B_score 0.5\n",
            "C_score 1.0\n",
            "------------------------\n",
            "the\n",
            "B [Nonterminal('Det') 0 0 0 0 0 0 0]\n",
            "C [0 0 Nonterminal('NP') 0 0 0 0 0]\n",
            "B_score 1.0\n",
            "C_score 0.0036\n",
            "[NP] -> [Det] [NP] (0.2)\n",
            "CALCULATION: 1.0 * 0.0036 * 0.2 = 0.00072\n",
            "hill\n",
            "B [Nonterminal('Det') 0 0 0 0 0 0 0]\n",
            "C [0 0 0 0 0 0 0 0]\n",
            "B_score 1.0\n",
            "C_score 0.0\n",
            "with\n",
            "B [Nonterminal('Det') 0 0 0 0 0 0 0]\n",
            "C [0 0 0 0 0 0 0 0]\n",
            "B_score 1.0\n",
            "C_score 0.0\n",
            "the\n",
            "B [Nonterminal('Det') 0 0 0 0 0 0 0]\n",
            "C [0 0 0 0 0 0 0 0]\n",
            "B_score 1.0\n",
            "C_score 0.0\n",
            "telescope\n",
            "B [Nonterminal('Det') 0 0 0 0 0 0 0]\n",
            "C [0 Nonterminal('N') 0 0 0 0 0 0]\n",
            "B_score 1.0\n",
            "C_score 0.3\n",
            "[NP] -> [Det] [N] (0.3)\n",
            "CALCULATION: 1.0 * 0.3 * 0.3 = 0.09\n",
            "------------------------\n",
            "------------------------\n",
            "I\n",
            "B [0 0 Nonterminal('NP') 0 0 0 0 0]\n",
            "C [0 0 0 0 0 0 0 0]\n",
            "B_score 0.2\n",
            "C_score 0.0\n",
            "saw\n",
            "B [0 0 Nonterminal('NP') 0 0 0 0 0]\n",
            "C [0 0 0 0 0 0 0 Nonterminal('VP')]\n",
            "B_score 0.2\n",
            "C_score 0.072\n",
            "[S] -> [NP] [VP] (1.0)\n",
            "CALCULATION: 0.2 * 0.072 * 1.0 = 0.0144\n",
            "the\n",
            "B [0 0 Nonterminal('NP') 0 0 0 0 0]\n",
            "C [0 0 Nonterminal('NP') 0 0 0 0 0]\n",
            "B_score 0.2\n",
            "C_score 0.024\n",
            "man\n",
            "B [0 0 Nonterminal('NP') 0 0 0 0 0]\n",
            "C [0 0 0 0 0 0 0 0]\n",
            "B_score 0.2\n",
            "C_score 0.0\n",
            "on\n",
            "B [0 0 Nonterminal('NP') 0 0 0 0 0]\n",
            "C [0 0 0 0 0 0 0 0]\n",
            "B_score 0.2\n",
            "C_score 0.0\n",
            "the\n",
            "B [0 0 Nonterminal('NP') 0 0 0 0 0]\n",
            "C [Nonterminal('Det') 0 0 0 0 0 0 0]\n",
            "B_score 0.2\n",
            "C_score 1.0\n",
            "------------------------\n",
            "saw\n",
            "B [0 0 0 0 0 0 Nonterminal('V') 0]\n",
            "C [0 0 0 0 0 0 0 Nonterminal('VP')]\n",
            "B_score 1.0\n",
            "C_score 0.0144\n",
            "the\n",
            "B [0 0 0 0 0 0 Nonterminal('V') 0]\n",
            "C [0 0 Nonterminal('NP') 0 0 0 0 0]\n",
            "B_score 1.0\n",
            "C_score 0.0048000000000000004\n",
            "[VP] -> [V] [NP] (0.6)\n",
            "CALCULATION: 1.0 * 0.0048000000000000004 * 0.6 = 0.00288\n",
            "man\n",
            "B [0 0 0 0 0 0 Nonterminal('V') 0]\n",
            "C [0 0 0 0 0 0 0 0]\n",
            "B_score 1.0\n",
            "C_score 0.0\n",
            "on\n",
            "B [0 0 0 0 0 0 Nonterminal('V') 0]\n",
            "C [0 0 0 0 0 0 0 0]\n",
            "B_score 1.0\n",
            "C_score 0.0\n",
            "the\n",
            "B [0 0 0 0 0 0 Nonterminal('V') 0]\n",
            "C [0 0 0 0 0 0 0 0]\n",
            "B_score 1.0\n",
            "C_score 0.0\n",
            "hill\n",
            "B [0 0 0 0 0 0 Nonterminal('V') 0]\n",
            "C [0 Nonterminal('N') 0 0 0 0 0 0]\n",
            "B_score 1.0\n",
            "C_score 0.3\n",
            "------------------------\n",
            "the\n",
            "B [Nonterminal('Det') 0 0 0 0 0 0 0]\n",
            "C [0 0 Nonterminal('NP') 0 0 0 0 0]\n",
            "B_score 1.0\n",
            "C_score 0.09\n",
            "[NP] -> [Det] [NP] (0.2)\n",
            "CALCULATION: 1.0 * 0.09 * 0.2 = 0.018\n",
            "man\n",
            "B [Nonterminal('Det') 0 0 0 0 0 0 0]\n",
            "C [0 0 0 0 0 0 0 0]\n",
            "B_score 1.0\n",
            "C_score 0.0\n",
            "on\n",
            "B [Nonterminal('Det') 0 0 0 0 0 0 0]\n",
            "C [0 0 0 0 0 0 0 0]\n",
            "B_score 1.0\n",
            "C_score 0.0\n",
            "the\n",
            "B [Nonterminal('Det') 0 0 0 0 0 0 0]\n",
            "C [0 0 Nonterminal('NP') 0 0 0 0 0]\n",
            "B_score 1.0\n",
            "C_score 0.09\n",
            "[NP] -> [Det] [NP] (0.2)\n",
            "CALCULATION: 1.0 * 0.09 * 0.2 = 0.018\n",
            "hill\n",
            "B [Nonterminal('Det') 0 0 0 0 0 0 0]\n",
            "C [0 0 0 0 0 0 0 0]\n",
            "B_score 1.0\n",
            "C_score 0.0\n",
            "with\n",
            "B [Nonterminal('Det') 0 0 0 0 0 0 0]\n",
            "C [0 0 0 Nonterminal('P') 0 0 0 0]\n",
            "B_score 1.0\n",
            "C_score 0.5\n",
            "------------------------\n",
            "man\n",
            "B [0 Nonterminal('N') 0 0 0 0 0 0]\n",
            "C [0 0 0 0 0 0 0 0]\n",
            "B_score 0.4\n",
            "C_score 0.0\n",
            "on\n",
            "B [0 Nonterminal('N') 0 0 0 0 0 0]\n",
            "C [0 0 0 0 Nonterminal('PP') 0 0 0]\n",
            "B_score 0.4\n",
            "C_score 0.036\n",
            "the\n",
            "B [0 Nonterminal('N') 0 0 0 0 0 0]\n",
            "C [0 0 Nonterminal('NP') 0 0 0 0 0]\n",
            "B_score 0.4\n",
            "C_score 0.018\n",
            "hill\n",
            "B [0 Nonterminal('N') 0 0 0 0 0 0]\n",
            "C [0 0 0 0 0 0 0 0]\n",
            "B_score 0.4\n",
            "C_score 0.0\n",
            "with\n",
            "B [0 Nonterminal('N') 0 0 0 0 0 0]\n",
            "C [0 0 0 0 0 0 0 0]\n",
            "B_score 0.4\n",
            "C_score 0.0\n",
            "the\n",
            "B [0 Nonterminal('N') 0 0 0 0 0 0]\n",
            "C [Nonterminal('Det') 0 0 0 0 0 0 0]\n",
            "B_score 0.4\n",
            "C_score 1.0\n",
            "------------------------\n",
            "on\n",
            "B [0 0 0 Nonterminal('P') 0 0 0 0]\n",
            "C [0 0 0 0 Nonterminal('PP') 0 0 0]\n",
            "B_score 0.5\n",
            "C_score 0.0072\n",
            "the\n",
            "B [0 0 0 Nonterminal('P') 0 0 0 0]\n",
            "C [0 0 Nonterminal('NP') 0 0 0 0 0]\n",
            "B_score 0.5\n",
            "C_score 0.0036\n",
            "[PP] -> [P] [NP] (0.8)\n",
            "CALCULATION: 0.5 * 0.0036 * 0.8 = 0.00144\n",
            "hill\n",
            "B [0 0 0 Nonterminal('P') 0 0 0 0]\n",
            "C [0 0 0 0 0 0 0 0]\n",
            "B_score 0.5\n",
            "C_score 0.0\n",
            "with\n",
            "B [0 0 0 Nonterminal('P') 0 0 0 0]\n",
            "C [0 0 0 0 0 0 0 0]\n",
            "B_score 0.5\n",
            "C_score 0.0\n",
            "the\n",
            "B [0 0 0 Nonterminal('P') 0 0 0 0]\n",
            "C [0 0 0 0 0 0 0 0]\n",
            "B_score 0.5\n",
            "C_score 0.0\n",
            "telescope\n",
            "B [0 0 0 Nonterminal('P') 0 0 0 0]\n",
            "C [0 Nonterminal('N') 0 0 0 0 0 0]\n",
            "B_score 0.5\n",
            "C_score 0.3\n",
            "------------------------\n",
            "------------------------\n",
            "I\n",
            "B [0 0 Nonterminal('NP') 0 0 0 0 0]\n",
            "C [0 0 0 0 0 Nonterminal('S') 0 0]\n",
            "B_score 0.2\n",
            "C_score 0.0144\n",
            "saw\n",
            "B [0 0 Nonterminal('NP') 0 0 0 0 0]\n",
            "C [0 0 0 0 0 0 0 Nonterminal('VP')]\n",
            "B_score 0.2\n",
            "C_score 0.0144\n",
            "[S] -> [NP] [VP] (1.0)\n",
            "CALCULATION: 0.2 * 0.0144 * 1.0 = 0.00288\n",
            "the\n",
            "B [0 0 Nonterminal('NP') 0 0 0 0 0]\n",
            "C [0 0 Nonterminal('NP') 0 0 0 0 0]\n",
            "B_score 0.2\n",
            "C_score 0.0048000000000000004\n",
            "man\n",
            "B [0 0 Nonterminal('NP') 0 0 0 0 0]\n",
            "C [0 0 0 0 0 0 0 0]\n",
            "B_score 0.2\n",
            "C_score 0.0\n",
            "on\n",
            "B [0 0 Nonterminal('NP') 0 0 0 0 0]\n",
            "C [0 0 0 0 0 0 0 0]\n",
            "B_score 0.2\n",
            "C_score 0.0\n",
            "the\n",
            "B [0 0 Nonterminal('NP') 0 0 0 0 0]\n",
            "C [0 0 0 0 0 0 0 0]\n",
            "B_score 0.2\n",
            "C_score 0.0\n",
            "hill\n",
            "B [0 0 Nonterminal('NP') 0 0 0 0 0]\n",
            "C [0 Nonterminal('N') 0 0 0 0 0 0]\n",
            "B_score 0.2\n",
            "C_score 0.3\n",
            "------------------------\n",
            "saw\n",
            "B [0 0 0 0 0 0 Nonterminal('V') 0]\n",
            "C [0 0 0 0 0 0 0 Nonterminal('VP')]\n",
            "B_score 1.0\n",
            "C_score 0.00288\n",
            "the\n",
            "B [0 0 0 0 0 0 Nonterminal('V') 0]\n",
            "C [0 0 Nonterminal('NP') 0 0 0 0 0]\n",
            "B_score 1.0\n",
            "C_score 0.09\n",
            "[VP] -> [V] [NP] (0.6)\n",
            "CALCULATION: 1.0 * 0.09 * 0.6 = 0.054\n",
            "man\n",
            "B [0 0 0 0 0 0 Nonterminal('V') 0]\n",
            "C [0 0 0 0 0 0 0 0]\n",
            "B_score 1.0\n",
            "C_score 0.0\n",
            "on\n",
            "B [0 0 0 0 0 0 Nonterminal('V') 0]\n",
            "C [0 0 0 0 0 0 0 0]\n",
            "B_score 1.0\n",
            "C_score 0.0\n",
            "the\n",
            "B [0 0 0 0 0 0 Nonterminal('V') 0]\n",
            "C [0 0 Nonterminal('NP') 0 0 0 0 0]\n",
            "B_score 1.0\n",
            "C_score 0.09\n",
            "[VP] -> [V] [NP] (0.6)\n",
            "CALCULATION: 1.0 * 0.09 * 0.6 = 0.054\n",
            "hill\n",
            "B [0 0 0 0 0 0 Nonterminal('V') 0]\n",
            "C [0 0 0 0 0 0 0 0]\n",
            "B_score 1.0\n",
            "C_score 0.0\n",
            "with\n",
            "B [0 0 0 0 0 0 Nonterminal('V') 0]\n",
            "C [0 0 0 Nonterminal('P') 0 0 0 0]\n",
            "B_score 1.0\n",
            "C_score 0.5\n",
            "------------------------\n",
            "the\n",
            "B [Nonterminal('Det') 0 0 0 0 0 0 0]\n",
            "C [0 0 Nonterminal('NP') 0 0 0 0 0]\n",
            "B_score 1.0\n",
            "C_score 0.018\n",
            "[NP] -> [Det] [NP] (0.2)\n",
            "CALCULATION: 1.0 * 0.018 * 0.2 = 0.0036\n",
            "man\n",
            "B [Nonterminal('Det') 0 0 0 0 0 0 0]\n",
            "C [0 0 0 0 0 0 0 0]\n",
            "B_score 1.0\n",
            "C_score 0.0\n",
            "on\n",
            "B [Nonterminal('Det') 0 0 0 0 0 0 0]\n",
            "C [0 0 0 0 Nonterminal('PP') 0 0 0]\n",
            "B_score 1.0\n",
            "C_score 0.036\n",
            "the\n",
            "B [Nonterminal('Det') 0 0 0 0 0 0 0]\n",
            "C [0 0 Nonterminal('NP') 0 0 0 0 0]\n",
            "B_score 1.0\n",
            "C_score 0.018\n",
            "[NP] -> [Det] [NP] (0.2)\n",
            "CALCULATION: 1.0 * 0.018 * 0.2 = 0.0036\n",
            "hill\n",
            "B [Nonterminal('Det') 0 0 0 0 0 0 0]\n",
            "C [0 0 0 0 0 0 0 0]\n",
            "B_score 1.0\n",
            "C_score 0.0\n",
            "with\n",
            "B [Nonterminal('Det') 0 0 0 0 0 0 0]\n",
            "C [0 0 0 0 0 0 0 0]\n",
            "B_score 1.0\n",
            "C_score 0.0\n",
            "the\n",
            "B [Nonterminal('Det') 0 0 0 0 0 0 0]\n",
            "C [Nonterminal('Det') 0 0 0 0 0 0 0]\n",
            "B_score 1.0\n",
            "C_score 1.0\n",
            "------------------------\n",
            "man\n",
            "B [0 Nonterminal('N') 0 0 0 0 0 0]\n",
            "C [0 0 0 0 0 0 0 0]\n",
            "B_score 0.4\n",
            "C_score 0.0\n",
            "on\n",
            "B [0 Nonterminal('N') 0 0 0 0 0 0]\n",
            "C [0 0 0 0 Nonterminal('PP') 0 0 0]\n",
            "B_score 0.4\n",
            "C_score 0.0072\n",
            "the\n",
            "B [0 Nonterminal('N') 0 0 0 0 0 0]\n",
            "C [0 0 Nonterminal('NP') 0 0 0 0 0]\n",
            "B_score 0.4\n",
            "C_score 0.0036\n",
            "hill\n",
            "B [0 Nonterminal('N') 0 0 0 0 0 0]\n",
            "C [0 0 0 0 0 0 0 0]\n",
            "B_score 0.4\n",
            "C_score 0.0\n",
            "with\n",
            "B [0 Nonterminal('N') 0 0 0 0 0 0]\n",
            "C [0 0 0 0 0 0 0 0]\n",
            "B_score 0.4\n",
            "C_score 0.0\n",
            "the\n",
            "B [0 Nonterminal('N') 0 0 0 0 0 0]\n",
            "C [0 0 0 0 0 0 0 0]\n",
            "B_score 0.4\n",
            "C_score 0.0\n",
            "telescope\n",
            "B [0 Nonterminal('N') 0 0 0 0 0 0]\n",
            "C [0 Nonterminal('N') 0 0 0 0 0 0]\n",
            "B_score 0.4\n",
            "C_score 0.3\n",
            "------------------------\n",
            "------------------------\n",
            "I\n",
            "B [0 0 Nonterminal('NP') 0 0 0 0 0]\n",
            "C [0 0 0 0 0 Nonterminal('S') 0 0]\n",
            "B_score 0.2\n",
            "C_score 0.00288\n",
            "saw\n",
            "B [0 0 Nonterminal('NP') 0 0 0 0 0]\n",
            "C [0 0 0 0 0 0 0 Nonterminal('VP')]\n",
            "B_score 0.2\n",
            "C_score 0.00288\n",
            "[S] -> [NP] [VP] (1.0)\n",
            "CALCULATION: 0.2 * 0.00288 * 1.0 = 0.000576\n",
            "the\n",
            "B [0 0 Nonterminal('NP') 0 0 0 0 0]\n",
            "C [0 0 Nonterminal('NP') 0 0 0 0 0]\n",
            "B_score 0.2\n",
            "C_score 0.09\n",
            "man\n",
            "B [0 0 Nonterminal('NP') 0 0 0 0 0]\n",
            "C [0 0 0 0 0 0 0 0]\n",
            "B_score 0.2\n",
            "C_score 0.0\n",
            "on\n",
            "B [0 0 Nonterminal('NP') 0 0 0 0 0]\n",
            "C [0 0 0 0 0 0 0 0]\n",
            "B_score 0.2\n",
            "C_score 0.0\n",
            "the\n",
            "B [0 0 Nonterminal('NP') 0 0 0 0 0]\n",
            "C [0 0 Nonterminal('NP') 0 0 0 0 0]\n",
            "B_score 0.2\n",
            "C_score 0.09\n",
            "hill\n",
            "B [0 0 Nonterminal('NP') 0 0 0 0 0]\n",
            "C [0 0 0 0 0 0 0 0]\n",
            "B_score 0.2\n",
            "C_score 0.0\n",
            "with\n",
            "B [0 0 Nonterminal('NP') 0 0 0 0 0]\n",
            "C [0 0 0 Nonterminal('P') 0 0 0 0]\n",
            "B_score 0.2\n",
            "C_score 0.5\n",
            "------------------------\n",
            "saw\n",
            "B [0 0 0 0 0 0 Nonterminal('V') 0]\n",
            "C [0 0 0 0 0 0 0 Nonterminal('VP')]\n",
            "B_score 1.0\n",
            "C_score 0.054\n",
            "the\n",
            "B [0 0 0 0 0 0 Nonterminal('V') 0]\n",
            "C [0 0 Nonterminal('NP') 0 0 0 0 0]\n",
            "B_score 1.0\n",
            "C_score 0.018\n",
            "[VP] -> [V] [NP] (0.6)\n",
            "CALCULATION: 1.0 * 0.018 * 0.6 = 0.010799999999999999\n",
            "man\n",
            "B [0 0 0 0 0 0 Nonterminal('V') 0]\n",
            "C [0 0 0 0 0 0 0 0]\n",
            "B_score 1.0\n",
            "C_score 0.0\n",
            "on\n",
            "B [0 0 0 0 0 0 Nonterminal('V') 0]\n",
            "C [0 0 0 0 Nonterminal('PP') 0 0 0]\n",
            "B_score 1.0\n",
            "C_score 0.036\n",
            "the\n",
            "B [0 0 0 0 0 0 Nonterminal('V') 0]\n",
            "C [0 0 Nonterminal('NP') 0 0 0 0 0]\n",
            "B_score 1.0\n",
            "C_score 0.018\n",
            "[VP] -> [V] [NP] (0.6)\n",
            "CALCULATION: 1.0 * 0.018 * 0.6 = 0.010799999999999999\n",
            "hill\n",
            "B [0 0 0 0 0 0 Nonterminal('V') 0]\n",
            "C [0 0 0 0 0 0 0 0]\n",
            "B_score 1.0\n",
            "C_score 0.0\n",
            "with\n",
            "B [0 0 0 0 0 0 Nonterminal('V') 0]\n",
            "C [0 0 0 0 0 0 0 0]\n",
            "B_score 1.0\n",
            "C_score 0.0\n",
            "the\n",
            "B [0 0 0 0 0 0 Nonterminal('V') 0]\n",
            "C [Nonterminal('Det') 0 0 0 0 0 0 0]\n",
            "B_score 1.0\n",
            "C_score 1.0\n",
            "------------------------\n",
            "the\n",
            "B [Nonterminal('Det') 0 0 0 0 0 0 0]\n",
            "C [0 0 Nonterminal('NP') 0 0 0 0 0]\n",
            "B_score 1.0\n",
            "C_score 0.0036\n",
            "[NP] -> [Det] [NP] (0.2)\n",
            "CALCULATION: 1.0 * 0.0036 * 0.2 = 0.00072\n",
            "man\n",
            "B [Nonterminal('Det') 0 0 0 0 0 0 0]\n",
            "C [0 0 0 0 0 0 0 0]\n",
            "B_score 1.0\n",
            "C_score 0.0\n",
            "on\n",
            "B [Nonterminal('Det') 0 0 0 0 0 0 0]\n",
            "C [0 0 0 0 Nonterminal('PP') 0 0 0]\n",
            "B_score 1.0\n",
            "C_score 0.0072\n",
            "the\n",
            "B [Nonterminal('Det') 0 0 0 0 0 0 0]\n",
            "C [0 0 Nonterminal('NP') 0 0 0 0 0]\n",
            "B_score 1.0\n",
            "C_score 0.0036\n",
            "[NP] -> [Det] [NP] (0.2)\n",
            "CALCULATION: 1.0 * 0.0036 * 0.2 = 0.00072\n",
            "hill\n",
            "B [Nonterminal('Det') 0 0 0 0 0 0 0]\n",
            "C [0 0 0 0 0 0 0 0]\n",
            "B_score 1.0\n",
            "C_score 0.0\n",
            "with\n",
            "B [Nonterminal('Det') 0 0 0 0 0 0 0]\n",
            "C [0 0 0 0 0 0 0 0]\n",
            "B_score 1.0\n",
            "C_score 0.0\n",
            "the\n",
            "B [Nonterminal('Det') 0 0 0 0 0 0 0]\n",
            "C [0 0 0 0 0 0 0 0]\n",
            "B_score 1.0\n",
            "C_score 0.0\n",
            "telescope\n",
            "B [Nonterminal('Det') 0 0 0 0 0 0 0]\n",
            "C [0 Nonterminal('N') 0 0 0 0 0 0]\n",
            "B_score 1.0\n",
            "C_score 0.3\n",
            "[NP] -> [Det] [N] (0.3)\n",
            "CALCULATION: 1.0 * 0.3 * 0.3 = 0.09\n",
            "------------------------\n",
            "------------------------\n",
            "I\n",
            "B [0 0 Nonterminal('NP') 0 0 0 0 0]\n",
            "C [0 0 0 0 0 Nonterminal('S') 0 0]\n",
            "B_score 0.2\n",
            "C_score 0.000576\n",
            "saw\n",
            "B [0 0 Nonterminal('NP') 0 0 0 0 0]\n",
            "C [0 0 0 0 0 0 0 Nonterminal('VP')]\n",
            "B_score 0.2\n",
            "C_score 0.054\n",
            "[S] -> [NP] [VP] (1.0)\n",
            "CALCULATION: 0.2 * 0.054 * 1.0 = 0.0108\n",
            "the\n",
            "B [0 0 Nonterminal('NP') 0 0 0 0 0]\n",
            "C [0 0 Nonterminal('NP') 0 0 0 0 0]\n",
            "B_score 0.2\n",
            "C_score 0.018\n",
            "man\n",
            "B [0 0 Nonterminal('NP') 0 0 0 0 0]\n",
            "C [0 0 0 0 0 0 0 0]\n",
            "B_score 0.2\n",
            "C_score 0.0\n",
            "on\n",
            "B [0 0 Nonterminal('NP') 0 0 0 0 0]\n",
            "C [0 0 0 0 Nonterminal('PP') 0 0 0]\n",
            "B_score 0.2\n",
            "C_score 0.036\n",
            "[NP] -> [NP] [PP] (0.3)\n",
            "CALCULATION: 0.2 * 0.036 * 0.3 = 0.00216\n",
            "the\n",
            "B [0 0 Nonterminal('NP') 0 0 0 0 0]\n",
            "C [0 0 Nonterminal('NP') 0 0 0 0 0]\n",
            "B_score 0.2\n",
            "C_score 0.018\n",
            "hill\n",
            "B [0 0 Nonterminal('NP') 0 0 0 0 0]\n",
            "C [0 0 0 0 0 0 0 0]\n",
            "B_score 0.2\n",
            "C_score 0.0\n",
            "with\n",
            "B [0 0 Nonterminal('NP') 0 0 0 0 0]\n",
            "C [0 0 0 0 0 0 0 0]\n",
            "B_score 0.2\n",
            "C_score 0.0\n",
            "the\n",
            "B [0 0 Nonterminal('NP') 0 0 0 0 0]\n",
            "C [Nonterminal('Det') 0 0 0 0 0 0 0]\n",
            "B_score 0.2\n",
            "C_score 1.0\n",
            "------------------------\n",
            "saw\n",
            "B [0 0 0 0 0 0 Nonterminal('V') 0]\n",
            "C [0 0 0 0 0 0 0 Nonterminal('VP')]\n",
            "B_score 1.0\n",
            "C_score 0.010799999999999999\n",
            "the\n",
            "B [0 0 0 0 0 0 Nonterminal('V') 0]\n",
            "C [0 0 Nonterminal('NP') 0 0 0 0 0]\n",
            "B_score 1.0\n",
            "C_score 0.0036\n",
            "[VP] -> [V] [NP] (0.6)\n",
            "CALCULATION: 1.0 * 0.0036 * 0.6 = 0.00216\n",
            "man\n",
            "B [0 0 0 0 0 0 Nonterminal('V') 0]\n",
            "C [0 0 0 0 0 0 0 0]\n",
            "B_score 1.0\n",
            "C_score 0.0\n",
            "on\n",
            "B [0 0 0 0 0 0 Nonterminal('V') 0]\n",
            "C [0 0 0 0 Nonterminal('PP') 0 0 0]\n",
            "B_score 1.0\n",
            "C_score 0.0072\n",
            "the\n",
            "B [0 0 0 0 0 0 Nonterminal('V') 0]\n",
            "C [0 0 Nonterminal('NP') 0 0 0 0 0]\n",
            "B_score 1.0\n",
            "C_score 0.0036\n",
            "[VP] -> [V] [NP] (0.6)\n",
            "CALCULATION: 1.0 * 0.0036 * 0.6 = 0.00216\n",
            "hill\n",
            "B [0 0 0 0 0 0 Nonterminal('V') 0]\n",
            "C [0 0 0 0 0 0 0 0]\n",
            "B_score 1.0\n",
            "C_score 0.0\n",
            "with\n",
            "B [0 0 0 0 0 0 Nonterminal('V') 0]\n",
            "C [0 0 0 0 0 0 0 0]\n",
            "B_score 1.0\n",
            "C_score 0.0\n",
            "the\n",
            "B [0 0 0 0 0 0 Nonterminal('V') 0]\n",
            "C [0 0 0 0 0 0 0 0]\n",
            "B_score 1.0\n",
            "C_score 0.0\n",
            "telescope\n",
            "B [0 0 0 0 0 0 Nonterminal('V') 0]\n",
            "C [0 Nonterminal('N') 0 0 0 0 0 0]\n",
            "B_score 1.0\n",
            "C_score 0.3\n",
            "------------------------\n",
            "------------------------\n",
            "I\n",
            "B [0 0 Nonterminal('NP') 0 0 0 0 0]\n",
            "C [0 0 Nonterminal('NP') 0 0 Nonterminal('S') 0 0]\n",
            "B_score 0.2\n",
            "C_score 0.012960000000000001\n",
            "saw\n",
            "B [0 0 Nonterminal('NP') 0 0 0 0 0]\n",
            "C [0 0 0 0 0 0 0 Nonterminal('VP')]\n",
            "B_score 0.2\n",
            "C_score 0.010799999999999999\n",
            "[S] -> [NP] [VP] (1.0)\n",
            "CALCULATION: 0.2 * 0.010799999999999999 * 1.0 = 0.00216\n",
            "the\n",
            "B [0 0 Nonterminal('NP') 0 0 0 0 0]\n",
            "C [0 0 Nonterminal('NP') 0 0 0 0 0]\n",
            "B_score 0.2\n",
            "C_score 0.0036\n",
            "man\n",
            "B [0 0 Nonterminal('NP') 0 0 0 0 0]\n",
            "C [0 0 0 0 0 0 0 0]\n",
            "B_score 0.2\n",
            "C_score 0.0\n",
            "on\n",
            "B [0 0 Nonterminal('NP') 0 0 0 0 0]\n",
            "C [0 0 0 0 Nonterminal('PP') 0 0 0]\n",
            "B_score 0.2\n",
            "C_score 0.0072\n",
            "[NP] -> [NP] [PP] (0.3)\n",
            "CALCULATION: 0.2 * 0.0072 * 0.3 = 0.00043200000000000004\n",
            "the\n",
            "B [0 0 Nonterminal('NP') 0 0 0 0 0]\n",
            "C [0 0 Nonterminal('NP') 0 0 0 0 0]\n",
            "B_score 0.2\n",
            "C_score 0.0036\n",
            "hill\n",
            "B [0 0 Nonterminal('NP') 0 0 0 0 0]\n",
            "C [0 0 0 0 0 0 0 0]\n",
            "B_score 0.2\n",
            "C_score 0.0\n",
            "with\n",
            "B [0 0 Nonterminal('NP') 0 0 0 0 0]\n",
            "C [0 0 0 0 0 0 0 0]\n",
            "B_score 0.2\n",
            "C_score 0.0\n",
            "the\n",
            "B [0 0 Nonterminal('NP') 0 0 0 0 0]\n",
            "C [0 0 0 0 0 0 0 0]\n",
            "B_score 0.2\n",
            "C_score 0.0\n",
            "telescope\n",
            "B [0 0 Nonterminal('NP') 0 0 0 0 0]\n",
            "C [0 Nonterminal('N') 0 0 0 0 0 0]\n",
            "B_score 0.2\n",
            "C_score 0.3\n",
            "------------------------\n",
            "------------------------\n",
            "The whole slice for nonterminal S:\n",
            "[[0.       0.       0.       0.       0.       0.       0.0144   0.00288\n",
            "  0.000576 0.0108   0.00216 ]\n",
            " [0.       0.       0.       0.       0.       0.       0.       0.\n",
            "  0.       0.       0.      ]\n",
            " [0.       0.       0.       0.       0.       0.       0.       0.\n",
            "  0.       0.       0.      ]\n",
            " [0.       0.       0.       0.       0.       0.       0.       0.\n",
            "  0.       0.       0.      ]\n",
            " [0.       0.       0.       0.       0.       0.       0.       0.\n",
            "  0.       0.       0.      ]\n",
            " [0.       0.       0.       0.       0.       0.       0.       0.\n",
            "  0.       0.       0.      ]\n",
            " [0.       0.       0.       0.       0.       0.       0.       0.\n",
            "  0.       0.       0.      ]\n",
            " [0.       0.       0.       0.       0.       0.       0.       0.\n",
            "  0.       0.       0.      ]\n",
            " [0.       0.       0.       0.       0.       0.       0.       0.\n",
            "  0.       0.       0.      ]\n",
            " [0.       0.       0.       0.       0.       0.       0.       0.\n",
            "  0.       0.       0.      ]\n",
            " [0.       0.       0.       0.       0.       0.       0.       0.\n",
            "  0.       0.       0.      ]] \n",
            "\n",
            "The score in cell (S, 0, num_words), which is the probability of the best parse:\n",
            "0.00216 \n",
            "\n",
            "The backpointer in cell (S, 0, num_words):\n",
            "[S] \n",
            "\n"
          ]
        }
      ],
      "source": [
        "## YOUR CODE HERE ##\n",
        "# Read in the grammar\n",
        "with open('telescope-grammar.txt') as F:\n",
        "    grammar = PCFG(read_grammar_rules(F))\n",
        "print(\"The grammar:\\n\", grammar)\n",
        "\n",
        "\n",
        "num_nonterminals = len(grammar.nonterminals)\n",
        "\n",
        "# Make a nonterminal2index and a index2nonterminal dictionary\n",
        "n2i = defaultdict(lambda: len(n2i))\n",
        "i2n = dict()\n",
        "\n",
        "# Turn the sentence into a list\n",
        "sentence = \"I saw the man on the hill with the telescope\".split()\n",
        "# The length of the sentence\n",
        "num_words = len(sentence)\n",
        "\n",
        "# sort nonterminals to make the mapping deterministic\n",
        "for nt in sorted(grammar.nonterminals):\n",
        "    i2n[n2i[nt]] = nt\n",
        "\n",
        "# Stop defaultdict behavior of n2i\n",
        "n2i = dict(n2i)\n",
        "\n",
        "#Run CYK algorithm\n",
        "score, back = cky(sentence, grammar, n2i)\n",
        "# print(np.array(score))\n",
        "# print(np.array(back))\n",
        "\n",
        "\n",
        "#Test code\n",
        "S = Nonterminal('S')\n",
        "\n",
        "print('The whole slice for nonterminal S:')\n",
        "print(score[n2i[S]], \"\\n\")\n",
        "\n",
        "print('The score in cell (S, 0, num_words), which is the probability of the best parse:')\n",
        "print(score[n2i[S]][0][num_words], \"\\n\")\n",
        "\n",
        "\n",
        "print('The backpointer in cell (S, 0, num_words):')\n",
        "print(back[n2i[S]][0][num_words], \"\\n\")"
      ]
    }
  ],
  "metadata": {
    "celltoolbar": "Create Assignment",
    "colab": {
      "provenance": [],
      "toc_visible": true
    },
    "kernelspec": {
      "display_name": "Python 3 (ipykernel)",
      "language": "python",
      "name": "python3"
    },
    "language_info": {
      "codemirror_mode": {
        "name": "ipython",
        "version": 3
      },
      "file_extension": ".py",
      "mimetype": "text/x-python",
      "name": "python",
      "nbconvert_exporter": "python",
      "pygments_lexer": "ipython3",
      "version": "3.8.10"
    },
    "toc": {
      "base_numbering": 1,
      "nav_menu": {},
      "number_sections": true,
      "sideBar": true,
      "skip_h1_title": false,
      "title_cell": "Table of Contents",
      "title_sidebar": "Contents",
      "toc_cell": false,
      "toc_position": {},
      "toc_section_display": true,
      "toc_window_display": true
    }
  },
  "nbformat": 4,
  "nbformat_minor": 0
}
